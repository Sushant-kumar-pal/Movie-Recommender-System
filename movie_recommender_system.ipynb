{
 "cells": [
  {
   "cell_type": "code",
   "execution_count": 1,
   "id": "4e5d7189",
   "metadata": {
    "_cell_guid": "b1076dfc-b9ad-4769-8c92-a6c4dae69d19",
    "_uuid": "8f2839f25d086af736a60e9eeb907d3b93b6e0e5",
    "execution": {
     "iopub.execute_input": "2023-09-27T04:23:33.409187Z",
     "iopub.status.busy": "2023-09-27T04:23:33.408673Z",
     "iopub.status.idle": "2023-09-27T04:23:33.777201Z",
     "shell.execute_reply": "2023-09-27T04:23:33.776104Z"
    },
    "papermill": {
     "duration": 0.384914,
     "end_time": "2023-09-27T04:23:33.779660",
     "exception": false,
     "start_time": "2023-09-27T04:23:33.394746",
     "status": "completed"
    },
    "tags": []
   },
   "outputs": [
    {
     "name": "stdout",
     "output_type": "stream",
     "text": [
      "/kaggle/input/tmdb-movie-metadata/tmdb_5000_movies.csv\n",
      "/kaggle/input/tmdb-movie-metadata/tmdb_5000_credits.csv\n"
     ]
    }
   ],
   "source": [
    "# This Python 3 environment comes with many helpful analytics libraries installed\n",
    "# It is defined by the kaggle/python Docker image: https://github.com/kaggle/docker-python\n",
    "# For example, here's several helpful packages to load\n",
    "\n",
    "import numpy as np # linear algebra\n",
    "import pandas as pd # data processing, CSV file I/O (e.g. pd.read_csv)\n",
    "\n",
    "# Input data files are available in the read-only \"../input/\" directory\n",
    "# For example, running this (by clicking run or pressing Shift+Enter) will list all files under the input directory\n",
    "\n",
    "import os\n",
    "for dirname, _, filenames in os.walk('/kaggle/input'):\n",
    "    for filename in filenames:\n",
    "        print(os.path.join(dirname, filename))\n",
    "\n",
    "# You can write up to 20GB to the current directory (/kaggle/working/) that gets preserved as output when you create a version using \"Save & Run All\" \n",
    "# You can also write temporary files to /kaggle/temp/, but they won't be saved outside of the current session"
   ]
  },
  {
   "cell_type": "code",
   "execution_count": 2,
   "id": "1eb0bcc0",
   "metadata": {
    "execution": {
     "iopub.execute_input": "2023-09-27T04:23:33.805843Z",
     "iopub.status.busy": "2023-09-27T04:23:33.804911Z",
     "iopub.status.idle": "2023-09-27T04:23:34.667319Z",
     "shell.execute_reply": "2023-09-27T04:23:34.666213Z"
    },
    "papermill": {
     "duration": 0.877582,
     "end_time": "2023-09-27T04:23:34.669875",
     "exception": false,
     "start_time": "2023-09-27T04:23:33.792293",
     "status": "completed"
    },
    "tags": []
   },
   "outputs": [],
   "source": [
    "movies=pd.read_csv('/kaggle/input/tmdb-movie-metadata/tmdb_5000_movies.csv')\n",
    "credits=pd.read_csv('/kaggle/input/tmdb-movie-metadata/tmdb_5000_credits.csv')"
   ]
  },
  {
   "cell_type": "code",
   "execution_count": 3,
   "id": "6670bea7",
   "metadata": {
    "execution": {
     "iopub.execute_input": "2023-09-27T04:23:34.694251Z",
     "iopub.status.busy": "2023-09-27T04:23:34.693837Z",
     "iopub.status.idle": "2023-09-27T04:23:34.725250Z",
     "shell.execute_reply": "2023-09-27T04:23:34.724234Z"
    },
    "papermill": {
     "duration": 0.046346,
     "end_time": "2023-09-27T04:23:34.727779",
     "exception": false,
     "start_time": "2023-09-27T04:23:34.681433",
     "status": "completed"
    },
    "tags": []
   },
   "outputs": [
    {
     "data": {
      "text/html": [
       "<div>\n",
       "<style scoped>\n",
       "    .dataframe tbody tr th:only-of-type {\n",
       "        vertical-align: middle;\n",
       "    }\n",
       "\n",
       "    .dataframe tbody tr th {\n",
       "        vertical-align: top;\n",
       "    }\n",
       "\n",
       "    .dataframe thead th {\n",
       "        text-align: right;\n",
       "    }\n",
       "</style>\n",
       "<table border=\"1\" class=\"dataframe\">\n",
       "  <thead>\n",
       "    <tr style=\"text-align: right;\">\n",
       "      <th></th>\n",
       "      <th>budget</th>\n",
       "      <th>genres</th>\n",
       "      <th>homepage</th>\n",
       "      <th>id</th>\n",
       "      <th>keywords</th>\n",
       "      <th>original_language</th>\n",
       "      <th>original_title</th>\n",
       "      <th>overview</th>\n",
       "      <th>popularity</th>\n",
       "      <th>production_companies</th>\n",
       "      <th>production_countries</th>\n",
       "      <th>release_date</th>\n",
       "      <th>revenue</th>\n",
       "      <th>runtime</th>\n",
       "      <th>spoken_languages</th>\n",
       "      <th>status</th>\n",
       "      <th>tagline</th>\n",
       "      <th>title</th>\n",
       "      <th>vote_average</th>\n",
       "      <th>vote_count</th>\n",
       "    </tr>\n",
       "  </thead>\n",
       "  <tbody>\n",
       "    <tr>\n",
       "      <th>0</th>\n",
       "      <td>237000000</td>\n",
       "      <td>[{\"id\": 28, \"name\": \"Action\"}, {\"id\": 12, \"nam...</td>\n",
       "      <td>http://www.avatarmovie.com/</td>\n",
       "      <td>19995</td>\n",
       "      <td>[{\"id\": 1463, \"name\": \"culture clash\"}, {\"id\":...</td>\n",
       "      <td>en</td>\n",
       "      <td>Avatar</td>\n",
       "      <td>In the 22nd century, a paraplegic Marine is di...</td>\n",
       "      <td>150.437577</td>\n",
       "      <td>[{\"name\": \"Ingenious Film Partners\", \"id\": 289...</td>\n",
       "      <td>[{\"iso_3166_1\": \"US\", \"name\": \"United States o...</td>\n",
       "      <td>2009-12-10</td>\n",
       "      <td>2787965087</td>\n",
       "      <td>162.0</td>\n",
       "      <td>[{\"iso_639_1\": \"en\", \"name\": \"English\"}, {\"iso...</td>\n",
       "      <td>Released</td>\n",
       "      <td>Enter the World of Pandora.</td>\n",
       "      <td>Avatar</td>\n",
       "      <td>7.2</td>\n",
       "      <td>11800</td>\n",
       "    </tr>\n",
       "    <tr>\n",
       "      <th>1</th>\n",
       "      <td>300000000</td>\n",
       "      <td>[{\"id\": 12, \"name\": \"Adventure\"}, {\"id\": 14, \"...</td>\n",
       "      <td>http://disney.go.com/disneypictures/pirates/</td>\n",
       "      <td>285</td>\n",
       "      <td>[{\"id\": 270, \"name\": \"ocean\"}, {\"id\": 726, \"na...</td>\n",
       "      <td>en</td>\n",
       "      <td>Pirates of the Caribbean: At World's End</td>\n",
       "      <td>Captain Barbossa, long believed to be dead, ha...</td>\n",
       "      <td>139.082615</td>\n",
       "      <td>[{\"name\": \"Walt Disney Pictures\", \"id\": 2}, {\"...</td>\n",
       "      <td>[{\"iso_3166_1\": \"US\", \"name\": \"United States o...</td>\n",
       "      <td>2007-05-19</td>\n",
       "      <td>961000000</td>\n",
       "      <td>169.0</td>\n",
       "      <td>[{\"iso_639_1\": \"en\", \"name\": \"English\"}]</td>\n",
       "      <td>Released</td>\n",
       "      <td>At the end of the world, the adventure begins.</td>\n",
       "      <td>Pirates of the Caribbean: At World's End</td>\n",
       "      <td>6.9</td>\n",
       "      <td>4500</td>\n",
       "    </tr>\n",
       "    <tr>\n",
       "      <th>2</th>\n",
       "      <td>245000000</td>\n",
       "      <td>[{\"id\": 28, \"name\": \"Action\"}, {\"id\": 12, \"nam...</td>\n",
       "      <td>http://www.sonypictures.com/movies/spectre/</td>\n",
       "      <td>206647</td>\n",
       "      <td>[{\"id\": 470, \"name\": \"spy\"}, {\"id\": 818, \"name...</td>\n",
       "      <td>en</td>\n",
       "      <td>Spectre</td>\n",
       "      <td>A cryptic message from Bond’s past sends him o...</td>\n",
       "      <td>107.376788</td>\n",
       "      <td>[{\"name\": \"Columbia Pictures\", \"id\": 5}, {\"nam...</td>\n",
       "      <td>[{\"iso_3166_1\": \"GB\", \"name\": \"United Kingdom\"...</td>\n",
       "      <td>2015-10-26</td>\n",
       "      <td>880674609</td>\n",
       "      <td>148.0</td>\n",
       "      <td>[{\"iso_639_1\": \"fr\", \"name\": \"Fran\\u00e7ais\"},...</td>\n",
       "      <td>Released</td>\n",
       "      <td>A Plan No One Escapes</td>\n",
       "      <td>Spectre</td>\n",
       "      <td>6.3</td>\n",
       "      <td>4466</td>\n",
       "    </tr>\n",
       "    <tr>\n",
       "      <th>3</th>\n",
       "      <td>250000000</td>\n",
       "      <td>[{\"id\": 28, \"name\": \"Action\"}, {\"id\": 80, \"nam...</td>\n",
       "      <td>http://www.thedarkknightrises.com/</td>\n",
       "      <td>49026</td>\n",
       "      <td>[{\"id\": 849, \"name\": \"dc comics\"}, {\"id\": 853,...</td>\n",
       "      <td>en</td>\n",
       "      <td>The Dark Knight Rises</td>\n",
       "      <td>Following the death of District Attorney Harve...</td>\n",
       "      <td>112.312950</td>\n",
       "      <td>[{\"name\": \"Legendary Pictures\", \"id\": 923}, {\"...</td>\n",
       "      <td>[{\"iso_3166_1\": \"US\", \"name\": \"United States o...</td>\n",
       "      <td>2012-07-16</td>\n",
       "      <td>1084939099</td>\n",
       "      <td>165.0</td>\n",
       "      <td>[{\"iso_639_1\": \"en\", \"name\": \"English\"}]</td>\n",
       "      <td>Released</td>\n",
       "      <td>The Legend Ends</td>\n",
       "      <td>The Dark Knight Rises</td>\n",
       "      <td>7.6</td>\n",
       "      <td>9106</td>\n",
       "    </tr>\n",
       "    <tr>\n",
       "      <th>4</th>\n",
       "      <td>260000000</td>\n",
       "      <td>[{\"id\": 28, \"name\": \"Action\"}, {\"id\": 12, \"nam...</td>\n",
       "      <td>http://movies.disney.com/john-carter</td>\n",
       "      <td>49529</td>\n",
       "      <td>[{\"id\": 818, \"name\": \"based on novel\"}, {\"id\":...</td>\n",
       "      <td>en</td>\n",
       "      <td>John Carter</td>\n",
       "      <td>John Carter is a war-weary, former military ca...</td>\n",
       "      <td>43.926995</td>\n",
       "      <td>[{\"name\": \"Walt Disney Pictures\", \"id\": 2}]</td>\n",
       "      <td>[{\"iso_3166_1\": \"US\", \"name\": \"United States o...</td>\n",
       "      <td>2012-03-07</td>\n",
       "      <td>284139100</td>\n",
       "      <td>132.0</td>\n",
       "      <td>[{\"iso_639_1\": \"en\", \"name\": \"English\"}]</td>\n",
       "      <td>Released</td>\n",
       "      <td>Lost in our world, found in another.</td>\n",
       "      <td>John Carter</td>\n",
       "      <td>6.1</td>\n",
       "      <td>2124</td>\n",
       "    </tr>\n",
       "  </tbody>\n",
       "</table>\n",
       "</div>"
      ],
      "text/plain": [
       "      budget                                             genres  \\\n",
       "0  237000000  [{\"id\": 28, \"name\": \"Action\"}, {\"id\": 12, \"nam...   \n",
       "1  300000000  [{\"id\": 12, \"name\": \"Adventure\"}, {\"id\": 14, \"...   \n",
       "2  245000000  [{\"id\": 28, \"name\": \"Action\"}, {\"id\": 12, \"nam...   \n",
       "3  250000000  [{\"id\": 28, \"name\": \"Action\"}, {\"id\": 80, \"nam...   \n",
       "4  260000000  [{\"id\": 28, \"name\": \"Action\"}, {\"id\": 12, \"nam...   \n",
       "\n",
       "                                       homepage      id  \\\n",
       "0                   http://www.avatarmovie.com/   19995   \n",
       "1  http://disney.go.com/disneypictures/pirates/     285   \n",
       "2   http://www.sonypictures.com/movies/spectre/  206647   \n",
       "3            http://www.thedarkknightrises.com/   49026   \n",
       "4          http://movies.disney.com/john-carter   49529   \n",
       "\n",
       "                                            keywords original_language  \\\n",
       "0  [{\"id\": 1463, \"name\": \"culture clash\"}, {\"id\":...                en   \n",
       "1  [{\"id\": 270, \"name\": \"ocean\"}, {\"id\": 726, \"na...                en   \n",
       "2  [{\"id\": 470, \"name\": \"spy\"}, {\"id\": 818, \"name...                en   \n",
       "3  [{\"id\": 849, \"name\": \"dc comics\"}, {\"id\": 853,...                en   \n",
       "4  [{\"id\": 818, \"name\": \"based on novel\"}, {\"id\":...                en   \n",
       "\n",
       "                             original_title  \\\n",
       "0                                    Avatar   \n",
       "1  Pirates of the Caribbean: At World's End   \n",
       "2                                   Spectre   \n",
       "3                     The Dark Knight Rises   \n",
       "4                               John Carter   \n",
       "\n",
       "                                            overview  popularity  \\\n",
       "0  In the 22nd century, a paraplegic Marine is di...  150.437577   \n",
       "1  Captain Barbossa, long believed to be dead, ha...  139.082615   \n",
       "2  A cryptic message from Bond’s past sends him o...  107.376788   \n",
       "3  Following the death of District Attorney Harve...  112.312950   \n",
       "4  John Carter is a war-weary, former military ca...   43.926995   \n",
       "\n",
       "                                production_companies  \\\n",
       "0  [{\"name\": \"Ingenious Film Partners\", \"id\": 289...   \n",
       "1  [{\"name\": \"Walt Disney Pictures\", \"id\": 2}, {\"...   \n",
       "2  [{\"name\": \"Columbia Pictures\", \"id\": 5}, {\"nam...   \n",
       "3  [{\"name\": \"Legendary Pictures\", \"id\": 923}, {\"...   \n",
       "4        [{\"name\": \"Walt Disney Pictures\", \"id\": 2}]   \n",
       "\n",
       "                                production_countries release_date     revenue  \\\n",
       "0  [{\"iso_3166_1\": \"US\", \"name\": \"United States o...   2009-12-10  2787965087   \n",
       "1  [{\"iso_3166_1\": \"US\", \"name\": \"United States o...   2007-05-19   961000000   \n",
       "2  [{\"iso_3166_1\": \"GB\", \"name\": \"United Kingdom\"...   2015-10-26   880674609   \n",
       "3  [{\"iso_3166_1\": \"US\", \"name\": \"United States o...   2012-07-16  1084939099   \n",
       "4  [{\"iso_3166_1\": \"US\", \"name\": \"United States o...   2012-03-07   284139100   \n",
       "\n",
       "   runtime                                   spoken_languages    status  \\\n",
       "0    162.0  [{\"iso_639_1\": \"en\", \"name\": \"English\"}, {\"iso...  Released   \n",
       "1    169.0           [{\"iso_639_1\": \"en\", \"name\": \"English\"}]  Released   \n",
       "2    148.0  [{\"iso_639_1\": \"fr\", \"name\": \"Fran\\u00e7ais\"},...  Released   \n",
       "3    165.0           [{\"iso_639_1\": \"en\", \"name\": \"English\"}]  Released   \n",
       "4    132.0           [{\"iso_639_1\": \"en\", \"name\": \"English\"}]  Released   \n",
       "\n",
       "                                          tagline  \\\n",
       "0                     Enter the World of Pandora.   \n",
       "1  At the end of the world, the adventure begins.   \n",
       "2                           A Plan No One Escapes   \n",
       "3                                 The Legend Ends   \n",
       "4            Lost in our world, found in another.   \n",
       "\n",
       "                                      title  vote_average  vote_count  \n",
       "0                                    Avatar           7.2       11800  \n",
       "1  Pirates of the Caribbean: At World's End           6.9        4500  \n",
       "2                                   Spectre           6.3        4466  \n",
       "3                     The Dark Knight Rises           7.6        9106  \n",
       "4                               John Carter           6.1        2124  "
      ]
     },
     "execution_count": 3,
     "metadata": {},
     "output_type": "execute_result"
    }
   ],
   "source": [
    "movies.head()\n"
   ]
  },
  {
   "cell_type": "code",
   "execution_count": 4,
   "id": "cbf55984",
   "metadata": {
    "execution": {
     "iopub.execute_input": "2023-09-27T04:23:34.752713Z",
     "iopub.status.busy": "2023-09-27T04:23:34.752359Z",
     "iopub.status.idle": "2023-09-27T04:23:34.765529Z",
     "shell.execute_reply": "2023-09-27T04:23:34.764717Z"
    },
    "papermill": {
     "duration": 0.028602,
     "end_time": "2023-09-27T04:23:34.767936",
     "exception": false,
     "start_time": "2023-09-27T04:23:34.739334",
     "status": "completed"
    },
    "tags": []
   },
   "outputs": [
    {
     "data": {
      "text/html": [
       "<div>\n",
       "<style scoped>\n",
       "    .dataframe tbody tr th:only-of-type {\n",
       "        vertical-align: middle;\n",
       "    }\n",
       "\n",
       "    .dataframe tbody tr th {\n",
       "        vertical-align: top;\n",
       "    }\n",
       "\n",
       "    .dataframe thead th {\n",
       "        text-align: right;\n",
       "    }\n",
       "</style>\n",
       "<table border=\"1\" class=\"dataframe\">\n",
       "  <thead>\n",
       "    <tr style=\"text-align: right;\">\n",
       "      <th></th>\n",
       "      <th>movie_id</th>\n",
       "      <th>title</th>\n",
       "      <th>cast</th>\n",
       "      <th>crew</th>\n",
       "    </tr>\n",
       "  </thead>\n",
       "  <tbody>\n",
       "    <tr>\n",
       "      <th>0</th>\n",
       "      <td>19995</td>\n",
       "      <td>Avatar</td>\n",
       "      <td>[{\"cast_id\": 242, \"character\": \"Jake Sully\", \"...</td>\n",
       "      <td>[{\"credit_id\": \"52fe48009251416c750aca23\", \"de...</td>\n",
       "    </tr>\n",
       "    <tr>\n",
       "      <th>1</th>\n",
       "      <td>285</td>\n",
       "      <td>Pirates of the Caribbean: At World's End</td>\n",
       "      <td>[{\"cast_id\": 4, \"character\": \"Captain Jack Spa...</td>\n",
       "      <td>[{\"credit_id\": \"52fe4232c3a36847f800b579\", \"de...</td>\n",
       "    </tr>\n",
       "    <tr>\n",
       "      <th>2</th>\n",
       "      <td>206647</td>\n",
       "      <td>Spectre</td>\n",
       "      <td>[{\"cast_id\": 1, \"character\": \"James Bond\", \"cr...</td>\n",
       "      <td>[{\"credit_id\": \"54805967c3a36829b5002c41\", \"de...</td>\n",
       "    </tr>\n",
       "    <tr>\n",
       "      <th>3</th>\n",
       "      <td>49026</td>\n",
       "      <td>The Dark Knight Rises</td>\n",
       "      <td>[{\"cast_id\": 2, \"character\": \"Bruce Wayne / Ba...</td>\n",
       "      <td>[{\"credit_id\": \"52fe4781c3a36847f81398c3\", \"de...</td>\n",
       "    </tr>\n",
       "    <tr>\n",
       "      <th>4</th>\n",
       "      <td>49529</td>\n",
       "      <td>John Carter</td>\n",
       "      <td>[{\"cast_id\": 5, \"character\": \"John Carter\", \"c...</td>\n",
       "      <td>[{\"credit_id\": \"52fe479ac3a36847f813eaa3\", \"de...</td>\n",
       "    </tr>\n",
       "  </tbody>\n",
       "</table>\n",
       "</div>"
      ],
      "text/plain": [
       "   movie_id                                     title  \\\n",
       "0     19995                                    Avatar   \n",
       "1       285  Pirates of the Caribbean: At World's End   \n",
       "2    206647                                   Spectre   \n",
       "3     49026                     The Dark Knight Rises   \n",
       "4     49529                               John Carter   \n",
       "\n",
       "                                                cast  \\\n",
       "0  [{\"cast_id\": 242, \"character\": \"Jake Sully\", \"...   \n",
       "1  [{\"cast_id\": 4, \"character\": \"Captain Jack Spa...   \n",
       "2  [{\"cast_id\": 1, \"character\": \"James Bond\", \"cr...   \n",
       "3  [{\"cast_id\": 2, \"character\": \"Bruce Wayne / Ba...   \n",
       "4  [{\"cast_id\": 5, \"character\": \"John Carter\", \"c...   \n",
       "\n",
       "                                                crew  \n",
       "0  [{\"credit_id\": \"52fe48009251416c750aca23\", \"de...  \n",
       "1  [{\"credit_id\": \"52fe4232c3a36847f800b579\", \"de...  \n",
       "2  [{\"credit_id\": \"54805967c3a36829b5002c41\", \"de...  \n",
       "3  [{\"credit_id\": \"52fe4781c3a36847f81398c3\", \"de...  \n",
       "4  [{\"credit_id\": \"52fe479ac3a36847f813eaa3\", \"de...  "
      ]
     },
     "execution_count": 4,
     "metadata": {},
     "output_type": "execute_result"
    }
   ],
   "source": [
    "credits.head()"
   ]
  },
  {
   "cell_type": "code",
   "execution_count": 5,
   "id": "229990c6",
   "metadata": {
    "execution": {
     "iopub.execute_input": "2023-09-27T04:23:34.795098Z",
     "iopub.status.busy": "2023-09-27T04:23:34.793985Z",
     "iopub.status.idle": "2023-09-27T04:23:34.826270Z",
     "shell.execute_reply": "2023-09-27T04:23:34.824951Z"
    },
    "papermill": {
     "duration": 0.04886,
     "end_time": "2023-09-27T04:23:34.829124",
     "exception": false,
     "start_time": "2023-09-27T04:23:34.780264",
     "status": "completed"
    },
    "tags": []
   },
   "outputs": [],
   "source": [
    "movies=movies.merge(credits,on='title')"
   ]
  },
  {
   "cell_type": "markdown",
   "id": "3c2c55a9",
   "metadata": {
    "papermill": {
     "duration": 0.011915,
     "end_time": "2023-09-27T04:23:34.853466",
     "exception": false,
     "start_time": "2023-09-27T04:23:34.841551",
     "status": "completed"
    },
    "tags": []
   },
   "source": []
  },
  {
   "cell_type": "code",
   "execution_count": 6,
   "id": "25faca6f",
   "metadata": {
    "execution": {
     "iopub.execute_input": "2023-09-27T04:23:34.880109Z",
     "iopub.status.busy": "2023-09-27T04:23:34.879089Z",
     "iopub.status.idle": "2023-09-27T04:23:34.887484Z",
     "shell.execute_reply": "2023-09-27T04:23:34.886356Z"
    },
    "papermill": {
     "duration": 0.024731,
     "end_time": "2023-09-27T04:23:34.890258",
     "exception": false,
     "start_time": "2023-09-27T04:23:34.865527",
     "status": "completed"
    },
    "tags": []
   },
   "outputs": [],
   "source": [
    "movies=movies[['movie_id','title','overview','genres','keywords','cast','crew']]"
   ]
  },
  {
   "cell_type": "code",
   "execution_count": 7,
   "id": "1108ce5a",
   "metadata": {
    "execution": {
     "iopub.execute_input": "2023-09-27T04:23:34.916710Z",
     "iopub.status.busy": "2023-09-27T04:23:34.915981Z",
     "iopub.status.idle": "2023-09-27T04:23:34.930498Z",
     "shell.execute_reply": "2023-09-27T04:23:34.929385Z"
    },
    "papermill": {
     "duration": 0.030016,
     "end_time": "2023-09-27T04:23:34.932764",
     "exception": false,
     "start_time": "2023-09-27T04:23:34.902748",
     "status": "completed"
    },
    "tags": []
   },
   "outputs": [
    {
     "data": {
      "text/html": [
       "<div>\n",
       "<style scoped>\n",
       "    .dataframe tbody tr th:only-of-type {\n",
       "        vertical-align: middle;\n",
       "    }\n",
       "\n",
       "    .dataframe tbody tr th {\n",
       "        vertical-align: top;\n",
       "    }\n",
       "\n",
       "    .dataframe thead th {\n",
       "        text-align: right;\n",
       "    }\n",
       "</style>\n",
       "<table border=\"1\" class=\"dataframe\">\n",
       "  <thead>\n",
       "    <tr style=\"text-align: right;\">\n",
       "      <th></th>\n",
       "      <th>movie_id</th>\n",
       "      <th>title</th>\n",
       "      <th>overview</th>\n",
       "      <th>genres</th>\n",
       "      <th>keywords</th>\n",
       "      <th>cast</th>\n",
       "      <th>crew</th>\n",
       "    </tr>\n",
       "  </thead>\n",
       "  <tbody>\n",
       "    <tr>\n",
       "      <th>0</th>\n",
       "      <td>19995</td>\n",
       "      <td>Avatar</td>\n",
       "      <td>In the 22nd century, a paraplegic Marine is di...</td>\n",
       "      <td>[{\"id\": 28, \"name\": \"Action\"}, {\"id\": 12, \"nam...</td>\n",
       "      <td>[{\"id\": 1463, \"name\": \"culture clash\"}, {\"id\":...</td>\n",
       "      <td>[{\"cast_id\": 242, \"character\": \"Jake Sully\", \"...</td>\n",
       "      <td>[{\"credit_id\": \"52fe48009251416c750aca23\", \"de...</td>\n",
       "    </tr>\n",
       "    <tr>\n",
       "      <th>1</th>\n",
       "      <td>285</td>\n",
       "      <td>Pirates of the Caribbean: At World's End</td>\n",
       "      <td>Captain Barbossa, long believed to be dead, ha...</td>\n",
       "      <td>[{\"id\": 12, \"name\": \"Adventure\"}, {\"id\": 14, \"...</td>\n",
       "      <td>[{\"id\": 270, \"name\": \"ocean\"}, {\"id\": 726, \"na...</td>\n",
       "      <td>[{\"cast_id\": 4, \"character\": \"Captain Jack Spa...</td>\n",
       "      <td>[{\"credit_id\": \"52fe4232c3a36847f800b579\", \"de...</td>\n",
       "    </tr>\n",
       "    <tr>\n",
       "      <th>2</th>\n",
       "      <td>206647</td>\n",
       "      <td>Spectre</td>\n",
       "      <td>A cryptic message from Bond’s past sends him o...</td>\n",
       "      <td>[{\"id\": 28, \"name\": \"Action\"}, {\"id\": 12, \"nam...</td>\n",
       "      <td>[{\"id\": 470, \"name\": \"spy\"}, {\"id\": 818, \"name...</td>\n",
       "      <td>[{\"cast_id\": 1, \"character\": \"James Bond\", \"cr...</td>\n",
       "      <td>[{\"credit_id\": \"54805967c3a36829b5002c41\", \"de...</td>\n",
       "    </tr>\n",
       "    <tr>\n",
       "      <th>3</th>\n",
       "      <td>49026</td>\n",
       "      <td>The Dark Knight Rises</td>\n",
       "      <td>Following the death of District Attorney Harve...</td>\n",
       "      <td>[{\"id\": 28, \"name\": \"Action\"}, {\"id\": 80, \"nam...</td>\n",
       "      <td>[{\"id\": 849, \"name\": \"dc comics\"}, {\"id\": 853,...</td>\n",
       "      <td>[{\"cast_id\": 2, \"character\": \"Bruce Wayne / Ba...</td>\n",
       "      <td>[{\"credit_id\": \"52fe4781c3a36847f81398c3\", \"de...</td>\n",
       "    </tr>\n",
       "    <tr>\n",
       "      <th>4</th>\n",
       "      <td>49529</td>\n",
       "      <td>John Carter</td>\n",
       "      <td>John Carter is a war-weary, former military ca...</td>\n",
       "      <td>[{\"id\": 28, \"name\": \"Action\"}, {\"id\": 12, \"nam...</td>\n",
       "      <td>[{\"id\": 818, \"name\": \"based on novel\"}, {\"id\":...</td>\n",
       "      <td>[{\"cast_id\": 5, \"character\": \"John Carter\", \"c...</td>\n",
       "      <td>[{\"credit_id\": \"52fe479ac3a36847f813eaa3\", \"de...</td>\n",
       "    </tr>\n",
       "  </tbody>\n",
       "</table>\n",
       "</div>"
      ],
      "text/plain": [
       "   movie_id                                     title  \\\n",
       "0     19995                                    Avatar   \n",
       "1       285  Pirates of the Caribbean: At World's End   \n",
       "2    206647                                   Spectre   \n",
       "3     49026                     The Dark Knight Rises   \n",
       "4     49529                               John Carter   \n",
       "\n",
       "                                            overview  \\\n",
       "0  In the 22nd century, a paraplegic Marine is di...   \n",
       "1  Captain Barbossa, long believed to be dead, ha...   \n",
       "2  A cryptic message from Bond’s past sends him o...   \n",
       "3  Following the death of District Attorney Harve...   \n",
       "4  John Carter is a war-weary, former military ca...   \n",
       "\n",
       "                                              genres  \\\n",
       "0  [{\"id\": 28, \"name\": \"Action\"}, {\"id\": 12, \"nam...   \n",
       "1  [{\"id\": 12, \"name\": \"Adventure\"}, {\"id\": 14, \"...   \n",
       "2  [{\"id\": 28, \"name\": \"Action\"}, {\"id\": 12, \"nam...   \n",
       "3  [{\"id\": 28, \"name\": \"Action\"}, {\"id\": 80, \"nam...   \n",
       "4  [{\"id\": 28, \"name\": \"Action\"}, {\"id\": 12, \"nam...   \n",
       "\n",
       "                                            keywords  \\\n",
       "0  [{\"id\": 1463, \"name\": \"culture clash\"}, {\"id\":...   \n",
       "1  [{\"id\": 270, \"name\": \"ocean\"}, {\"id\": 726, \"na...   \n",
       "2  [{\"id\": 470, \"name\": \"spy\"}, {\"id\": 818, \"name...   \n",
       "3  [{\"id\": 849, \"name\": \"dc comics\"}, {\"id\": 853,...   \n",
       "4  [{\"id\": 818, \"name\": \"based on novel\"}, {\"id\":...   \n",
       "\n",
       "                                                cast  \\\n",
       "0  [{\"cast_id\": 242, \"character\": \"Jake Sully\", \"...   \n",
       "1  [{\"cast_id\": 4, \"character\": \"Captain Jack Spa...   \n",
       "2  [{\"cast_id\": 1, \"character\": \"James Bond\", \"cr...   \n",
       "3  [{\"cast_id\": 2, \"character\": \"Bruce Wayne / Ba...   \n",
       "4  [{\"cast_id\": 5, \"character\": \"John Carter\", \"c...   \n",
       "\n",
       "                                                crew  \n",
       "0  [{\"credit_id\": \"52fe48009251416c750aca23\", \"de...  \n",
       "1  [{\"credit_id\": \"52fe4232c3a36847f800b579\", \"de...  \n",
       "2  [{\"credit_id\": \"54805967c3a36829b5002c41\", \"de...  \n",
       "3  [{\"credit_id\": \"52fe4781c3a36847f81398c3\", \"de...  \n",
       "4  [{\"credit_id\": \"52fe479ac3a36847f813eaa3\", \"de...  "
      ]
     },
     "execution_count": 7,
     "metadata": {},
     "output_type": "execute_result"
    }
   ],
   "source": [
    "movies.head()"
   ]
  },
  {
   "cell_type": "code",
   "execution_count": 8,
   "id": "bd6a11dc",
   "metadata": {
    "execution": {
     "iopub.execute_input": "2023-09-27T04:23:34.959042Z",
     "iopub.status.busy": "2023-09-27T04:23:34.958665Z",
     "iopub.status.idle": "2023-09-27T04:23:34.970772Z",
     "shell.execute_reply": "2023-09-27T04:23:34.969743Z"
    },
    "papermill": {
     "duration": 0.027927,
     "end_time": "2023-09-27T04:23:34.972971",
     "exception": false,
     "start_time": "2023-09-27T04:23:34.945044",
     "status": "completed"
    },
    "tags": []
   },
   "outputs": [
    {
     "data": {
      "text/plain": [
       "movie_id    0\n",
       "title       0\n",
       "overview    3\n",
       "genres      0\n",
       "keywords    0\n",
       "cast        0\n",
       "crew        0\n",
       "dtype: int64"
      ]
     },
     "execution_count": 8,
     "metadata": {},
     "output_type": "execute_result"
    }
   ],
   "source": [
    "movies.isnull().sum()"
   ]
  },
  {
   "cell_type": "code",
   "execution_count": 9,
   "id": "9d11de59",
   "metadata": {
    "execution": {
     "iopub.execute_input": "2023-09-27T04:23:34.999405Z",
     "iopub.status.busy": "2023-09-27T04:23:34.998999Z",
     "iopub.status.idle": "2023-09-27T04:23:35.010957Z",
     "shell.execute_reply": "2023-09-27T04:23:35.009926Z"
    },
    "papermill": {
     "duration": 0.028229,
     "end_time": "2023-09-27T04:23:35.013400",
     "exception": false,
     "start_time": "2023-09-27T04:23:34.985171",
     "status": "completed"
    },
    "tags": []
   },
   "outputs": [],
   "source": [
    "movies.dropna(inplace=True)"
   ]
  },
  {
   "cell_type": "code",
   "execution_count": 10,
   "id": "5bb0e66c",
   "metadata": {
    "execution": {
     "iopub.execute_input": "2023-09-27T04:23:35.043273Z",
     "iopub.status.busy": "2023-09-27T04:23:35.042622Z",
     "iopub.status.idle": "2023-09-27T04:23:35.148880Z",
     "shell.execute_reply": "2023-09-27T04:23:35.147795Z"
    },
    "papermill": {
     "duration": 0.125197,
     "end_time": "2023-09-27T04:23:35.151335",
     "exception": false,
     "start_time": "2023-09-27T04:23:35.026138",
     "status": "completed"
    },
    "tags": []
   },
   "outputs": [
    {
     "data": {
      "text/plain": [
       "0"
      ]
     },
     "execution_count": 10,
     "metadata": {},
     "output_type": "execute_result"
    }
   ],
   "source": [
    "movies.duplicated().sum() #Rows duplicate nahi aahet"
   ]
  },
  {
   "cell_type": "code",
   "execution_count": 11,
   "id": "7a7110d3",
   "metadata": {
    "execution": {
     "iopub.execute_input": "2023-09-27T04:23:35.178071Z",
     "iopub.status.busy": "2023-09-27T04:23:35.177667Z",
     "iopub.status.idle": "2023-09-27T04:23:35.182961Z",
     "shell.execute_reply": "2023-09-27T04:23:35.181870Z"
    },
    "papermill": {
     "duration": 0.02127,
     "end_time": "2023-09-27T04:23:35.185086",
     "exception": false,
     "start_time": "2023-09-27T04:23:35.163816",
     "status": "completed"
    },
    "tags": []
   },
   "outputs": [],
   "source": [
    "import ast\n",
    "def convert(obj):                     #we have genres in form of list of strings we need just genre id vgere sagla kad bagula \n",
    "    l=[]                              #literal_eval string la dict madhe convert karto\n",
    "    for i in ast.literal_eval(obj):\n",
    "        l.append(i['name'])\n",
    "    return l"
   ]
  },
  {
   "cell_type": "code",
   "execution_count": 12,
   "id": "a5ae9bcb",
   "metadata": {
    "execution": {
     "iopub.execute_input": "2023-09-27T04:23:35.274547Z",
     "iopub.status.busy": "2023-09-27T04:23:35.274178Z",
     "iopub.status.idle": "2023-09-27T04:23:35.738752Z",
     "shell.execute_reply": "2023-09-27T04:23:35.737869Z"
    },
    "papermill": {
     "duration": 0.48175,
     "end_time": "2023-09-27T04:23:35.741246",
     "exception": false,
     "start_time": "2023-09-27T04:23:35.259496",
     "status": "completed"
    },
    "tags": []
   },
   "outputs": [],
   "source": [
    "movies['keywords']= movies['keywords'].apply(convert)"
   ]
  },
  {
   "cell_type": "code",
   "execution_count": 13,
   "id": "1383347b",
   "metadata": {
    "execution": {
     "iopub.execute_input": "2023-09-27T04:23:35.767934Z",
     "iopub.status.busy": "2023-09-27T04:23:35.767235Z",
     "iopub.status.idle": "2023-09-27T04:23:35.948763Z",
     "shell.execute_reply": "2023-09-27T04:23:35.947807Z"
    },
    "papermill": {
     "duration": 0.197609,
     "end_time": "2023-09-27T04:23:35.951281",
     "exception": false,
     "start_time": "2023-09-27T04:23:35.753672",
     "status": "completed"
    },
    "tags": []
   },
   "outputs": [],
   "source": [
    "movies['genres']= movies['genres'].apply(convert)"
   ]
  },
  {
   "cell_type": "code",
   "execution_count": 14,
   "id": "c217729a",
   "metadata": {
    "execution": {
     "iopub.execute_input": "2023-09-27T04:23:35.977764Z",
     "iopub.status.busy": "2023-09-27T04:23:35.977391Z",
     "iopub.status.idle": "2023-09-27T04:23:35.994829Z",
     "shell.execute_reply": "2023-09-27T04:23:35.993775Z"
    },
    "papermill": {
     "duration": 0.033184,
     "end_time": "2023-09-27T04:23:35.996946",
     "exception": false,
     "start_time": "2023-09-27T04:23:35.963762",
     "status": "completed"
    },
    "tags": []
   },
   "outputs": [
    {
     "data": {
      "text/html": [
       "<div>\n",
       "<style scoped>\n",
       "    .dataframe tbody tr th:only-of-type {\n",
       "        vertical-align: middle;\n",
       "    }\n",
       "\n",
       "    .dataframe tbody tr th {\n",
       "        vertical-align: top;\n",
       "    }\n",
       "\n",
       "    .dataframe thead th {\n",
       "        text-align: right;\n",
       "    }\n",
       "</style>\n",
       "<table border=\"1\" class=\"dataframe\">\n",
       "  <thead>\n",
       "    <tr style=\"text-align: right;\">\n",
       "      <th></th>\n",
       "      <th>movie_id</th>\n",
       "      <th>title</th>\n",
       "      <th>overview</th>\n",
       "      <th>genres</th>\n",
       "      <th>keywords</th>\n",
       "      <th>cast</th>\n",
       "      <th>crew</th>\n",
       "    </tr>\n",
       "  </thead>\n",
       "  <tbody>\n",
       "    <tr>\n",
       "      <th>0</th>\n",
       "      <td>19995</td>\n",
       "      <td>Avatar</td>\n",
       "      <td>In the 22nd century, a paraplegic Marine is di...</td>\n",
       "      <td>[Action, Adventure, Fantasy, Science Fiction]</td>\n",
       "      <td>[culture clash, future, space war, space colon...</td>\n",
       "      <td>[{\"cast_id\": 242, \"character\": \"Jake Sully\", \"...</td>\n",
       "      <td>[{\"credit_id\": \"52fe48009251416c750aca23\", \"de...</td>\n",
       "    </tr>\n",
       "    <tr>\n",
       "      <th>1</th>\n",
       "      <td>285</td>\n",
       "      <td>Pirates of the Caribbean: At World's End</td>\n",
       "      <td>Captain Barbossa, long believed to be dead, ha...</td>\n",
       "      <td>[Adventure, Fantasy, Action]</td>\n",
       "      <td>[ocean, drug abuse, exotic island, east india ...</td>\n",
       "      <td>[{\"cast_id\": 4, \"character\": \"Captain Jack Spa...</td>\n",
       "      <td>[{\"credit_id\": \"52fe4232c3a36847f800b579\", \"de...</td>\n",
       "    </tr>\n",
       "    <tr>\n",
       "      <th>2</th>\n",
       "      <td>206647</td>\n",
       "      <td>Spectre</td>\n",
       "      <td>A cryptic message from Bond’s past sends him o...</td>\n",
       "      <td>[Action, Adventure, Crime]</td>\n",
       "      <td>[spy, based on novel, secret agent, sequel, mi...</td>\n",
       "      <td>[{\"cast_id\": 1, \"character\": \"James Bond\", \"cr...</td>\n",
       "      <td>[{\"credit_id\": \"54805967c3a36829b5002c41\", \"de...</td>\n",
       "    </tr>\n",
       "    <tr>\n",
       "      <th>3</th>\n",
       "      <td>49026</td>\n",
       "      <td>The Dark Knight Rises</td>\n",
       "      <td>Following the death of District Attorney Harve...</td>\n",
       "      <td>[Action, Crime, Drama, Thriller]</td>\n",
       "      <td>[dc comics, crime fighter, terrorist, secret i...</td>\n",
       "      <td>[{\"cast_id\": 2, \"character\": \"Bruce Wayne / Ba...</td>\n",
       "      <td>[{\"credit_id\": \"52fe4781c3a36847f81398c3\", \"de...</td>\n",
       "    </tr>\n",
       "    <tr>\n",
       "      <th>4</th>\n",
       "      <td>49529</td>\n",
       "      <td>John Carter</td>\n",
       "      <td>John Carter is a war-weary, former military ca...</td>\n",
       "      <td>[Action, Adventure, Science Fiction]</td>\n",
       "      <td>[based on novel, mars, medallion, space travel...</td>\n",
       "      <td>[{\"cast_id\": 5, \"character\": \"John Carter\", \"c...</td>\n",
       "      <td>[{\"credit_id\": \"52fe479ac3a36847f813eaa3\", \"de...</td>\n",
       "    </tr>\n",
       "  </tbody>\n",
       "</table>\n",
       "</div>"
      ],
      "text/plain": [
       "   movie_id                                     title  \\\n",
       "0     19995                                    Avatar   \n",
       "1       285  Pirates of the Caribbean: At World's End   \n",
       "2    206647                                   Spectre   \n",
       "3     49026                     The Dark Knight Rises   \n",
       "4     49529                               John Carter   \n",
       "\n",
       "                                            overview  \\\n",
       "0  In the 22nd century, a paraplegic Marine is di...   \n",
       "1  Captain Barbossa, long believed to be dead, ha...   \n",
       "2  A cryptic message from Bond’s past sends him o...   \n",
       "3  Following the death of District Attorney Harve...   \n",
       "4  John Carter is a war-weary, former military ca...   \n",
       "\n",
       "                                          genres  \\\n",
       "0  [Action, Adventure, Fantasy, Science Fiction]   \n",
       "1                   [Adventure, Fantasy, Action]   \n",
       "2                     [Action, Adventure, Crime]   \n",
       "3               [Action, Crime, Drama, Thriller]   \n",
       "4           [Action, Adventure, Science Fiction]   \n",
       "\n",
       "                                            keywords  \\\n",
       "0  [culture clash, future, space war, space colon...   \n",
       "1  [ocean, drug abuse, exotic island, east india ...   \n",
       "2  [spy, based on novel, secret agent, sequel, mi...   \n",
       "3  [dc comics, crime fighter, terrorist, secret i...   \n",
       "4  [based on novel, mars, medallion, space travel...   \n",
       "\n",
       "                                                cast  \\\n",
       "0  [{\"cast_id\": 242, \"character\": \"Jake Sully\", \"...   \n",
       "1  [{\"cast_id\": 4, \"character\": \"Captain Jack Spa...   \n",
       "2  [{\"cast_id\": 1, \"character\": \"James Bond\", \"cr...   \n",
       "3  [{\"cast_id\": 2, \"character\": \"Bruce Wayne / Ba...   \n",
       "4  [{\"cast_id\": 5, \"character\": \"John Carter\", \"c...   \n",
       "\n",
       "                                                crew  \n",
       "0  [{\"credit_id\": \"52fe48009251416c750aca23\", \"de...  \n",
       "1  [{\"credit_id\": \"52fe4232c3a36847f800b579\", \"de...  \n",
       "2  [{\"credit_id\": \"54805967c3a36829b5002c41\", \"de...  \n",
       "3  [{\"credit_id\": \"52fe4781c3a36847f81398c3\", \"de...  \n",
       "4  [{\"credit_id\": \"52fe479ac3a36847f813eaa3\", \"de...  "
      ]
     },
     "execution_count": 14,
     "metadata": {},
     "output_type": "execute_result"
    }
   ],
   "source": [
    "movies.head()"
   ]
  },
  {
   "cell_type": "code",
   "execution_count": 15,
   "id": "3a002f65",
   "metadata": {
    "execution": {
     "iopub.execute_input": "2023-09-27T04:23:36.024262Z",
     "iopub.status.busy": "2023-09-27T04:23:36.023763Z",
     "iopub.status.idle": "2023-09-27T04:23:36.029193Z",
     "shell.execute_reply": "2023-09-27T04:23:36.028196Z"
    },
    "papermill": {
     "duration": 0.021572,
     "end_time": "2023-09-27T04:23:36.031364",
     "exception": false,
     "start_time": "2023-09-27T04:23:36.009792",
     "status": "completed"
    },
    "tags": []
   },
   "outputs": [],
   "source": [
    "def convert3(obj):                     #we have genres in form of list of strings we need just genre id vgere sagla kad bagula \n",
    "    l=[]\n",
    "    c=0#literal_eval string la dict madhe convert karto\n",
    "    for i in ast.literal_eval(obj):\n",
    "        if c!=3:\n",
    "            l.append(i['name'])\n",
    "        else:\n",
    "            break\n",
    "    return l"
   ]
  },
  {
   "cell_type": "code",
   "execution_count": 16,
   "id": "2888ecd0",
   "metadata": {
    "execution": {
     "iopub.execute_input": "2023-09-27T04:23:36.058263Z",
     "iopub.status.busy": "2023-09-27T04:23:36.057898Z",
     "iopub.status.idle": "2023-09-27T04:23:39.788366Z",
     "shell.execute_reply": "2023-09-27T04:23:39.787283Z"
    },
    "papermill": {
     "duration": 3.747029,
     "end_time": "2023-09-27T04:23:39.791226",
     "exception": false,
     "start_time": "2023-09-27T04:23:36.044197",
     "status": "completed"
    },
    "tags": []
   },
   "outputs": [],
   "source": [
    "movies['cast']=movies['cast'].apply(convert3)"
   ]
  },
  {
   "cell_type": "code",
   "execution_count": 17,
   "id": "baefa313",
   "metadata": {
    "execution": {
     "iopub.execute_input": "2023-09-27T04:23:39.818739Z",
     "iopub.status.busy": "2023-09-27T04:23:39.818347Z",
     "iopub.status.idle": "2023-09-27T04:23:39.837934Z",
     "shell.execute_reply": "2023-09-27T04:23:39.836767Z"
    },
    "papermill": {
     "duration": 0.03582,
     "end_time": "2023-09-27T04:23:39.840264",
     "exception": false,
     "start_time": "2023-09-27T04:23:39.804444",
     "status": "completed"
    },
    "tags": []
   },
   "outputs": [
    {
     "data": {
      "text/html": [
       "<div>\n",
       "<style scoped>\n",
       "    .dataframe tbody tr th:only-of-type {\n",
       "        vertical-align: middle;\n",
       "    }\n",
       "\n",
       "    .dataframe tbody tr th {\n",
       "        vertical-align: top;\n",
       "    }\n",
       "\n",
       "    .dataframe thead th {\n",
       "        text-align: right;\n",
       "    }\n",
       "</style>\n",
       "<table border=\"1\" class=\"dataframe\">\n",
       "  <thead>\n",
       "    <tr style=\"text-align: right;\">\n",
       "      <th></th>\n",
       "      <th>movie_id</th>\n",
       "      <th>title</th>\n",
       "      <th>overview</th>\n",
       "      <th>genres</th>\n",
       "      <th>keywords</th>\n",
       "      <th>cast</th>\n",
       "      <th>crew</th>\n",
       "    </tr>\n",
       "  </thead>\n",
       "  <tbody>\n",
       "    <tr>\n",
       "      <th>0</th>\n",
       "      <td>19995</td>\n",
       "      <td>Avatar</td>\n",
       "      <td>In the 22nd century, a paraplegic Marine is di...</td>\n",
       "      <td>[Action, Adventure, Fantasy, Science Fiction]</td>\n",
       "      <td>[culture clash, future, space war, space colon...</td>\n",
       "      <td>[Sam Worthington, Zoe Saldana, Sigourney Weave...</td>\n",
       "      <td>[{\"credit_id\": \"52fe48009251416c750aca23\", \"de...</td>\n",
       "    </tr>\n",
       "    <tr>\n",
       "      <th>1</th>\n",
       "      <td>285</td>\n",
       "      <td>Pirates of the Caribbean: At World's End</td>\n",
       "      <td>Captain Barbossa, long believed to be dead, ha...</td>\n",
       "      <td>[Adventure, Fantasy, Action]</td>\n",
       "      <td>[ocean, drug abuse, exotic island, east india ...</td>\n",
       "      <td>[Johnny Depp, Orlando Bloom, Keira Knightley, ...</td>\n",
       "      <td>[{\"credit_id\": \"52fe4232c3a36847f800b579\", \"de...</td>\n",
       "    </tr>\n",
       "    <tr>\n",
       "      <th>2</th>\n",
       "      <td>206647</td>\n",
       "      <td>Spectre</td>\n",
       "      <td>A cryptic message from Bond’s past sends him o...</td>\n",
       "      <td>[Action, Adventure, Crime]</td>\n",
       "      <td>[spy, based on novel, secret agent, sequel, mi...</td>\n",
       "      <td>[Daniel Craig, Christoph Waltz, Léa Seydoux, R...</td>\n",
       "      <td>[{\"credit_id\": \"54805967c3a36829b5002c41\", \"de...</td>\n",
       "    </tr>\n",
       "    <tr>\n",
       "      <th>3</th>\n",
       "      <td>49026</td>\n",
       "      <td>The Dark Knight Rises</td>\n",
       "      <td>Following the death of District Attorney Harve...</td>\n",
       "      <td>[Action, Crime, Drama, Thriller]</td>\n",
       "      <td>[dc comics, crime fighter, terrorist, secret i...</td>\n",
       "      <td>[Christian Bale, Michael Caine, Gary Oldman, A...</td>\n",
       "      <td>[{\"credit_id\": \"52fe4781c3a36847f81398c3\", \"de...</td>\n",
       "    </tr>\n",
       "    <tr>\n",
       "      <th>4</th>\n",
       "      <td>49529</td>\n",
       "      <td>John Carter</td>\n",
       "      <td>John Carter is a war-weary, former military ca...</td>\n",
       "      <td>[Action, Adventure, Science Fiction]</td>\n",
       "      <td>[based on novel, mars, medallion, space travel...</td>\n",
       "      <td>[Taylor Kitsch, Lynn Collins, Samantha Morton,...</td>\n",
       "      <td>[{\"credit_id\": \"52fe479ac3a36847f813eaa3\", \"de...</td>\n",
       "    </tr>\n",
       "  </tbody>\n",
       "</table>\n",
       "</div>"
      ],
      "text/plain": [
       "   movie_id                                     title  \\\n",
       "0     19995                                    Avatar   \n",
       "1       285  Pirates of the Caribbean: At World's End   \n",
       "2    206647                                   Spectre   \n",
       "3     49026                     The Dark Knight Rises   \n",
       "4     49529                               John Carter   \n",
       "\n",
       "                                            overview  \\\n",
       "0  In the 22nd century, a paraplegic Marine is di...   \n",
       "1  Captain Barbossa, long believed to be dead, ha...   \n",
       "2  A cryptic message from Bond’s past sends him o...   \n",
       "3  Following the death of District Attorney Harve...   \n",
       "4  John Carter is a war-weary, former military ca...   \n",
       "\n",
       "                                          genres  \\\n",
       "0  [Action, Adventure, Fantasy, Science Fiction]   \n",
       "1                   [Adventure, Fantasy, Action]   \n",
       "2                     [Action, Adventure, Crime]   \n",
       "3               [Action, Crime, Drama, Thriller]   \n",
       "4           [Action, Adventure, Science Fiction]   \n",
       "\n",
       "                                            keywords  \\\n",
       "0  [culture clash, future, space war, space colon...   \n",
       "1  [ocean, drug abuse, exotic island, east india ...   \n",
       "2  [spy, based on novel, secret agent, sequel, mi...   \n",
       "3  [dc comics, crime fighter, terrorist, secret i...   \n",
       "4  [based on novel, mars, medallion, space travel...   \n",
       "\n",
       "                                                cast  \\\n",
       "0  [Sam Worthington, Zoe Saldana, Sigourney Weave...   \n",
       "1  [Johnny Depp, Orlando Bloom, Keira Knightley, ...   \n",
       "2  [Daniel Craig, Christoph Waltz, Léa Seydoux, R...   \n",
       "3  [Christian Bale, Michael Caine, Gary Oldman, A...   \n",
       "4  [Taylor Kitsch, Lynn Collins, Samantha Morton,...   \n",
       "\n",
       "                                                crew  \n",
       "0  [{\"credit_id\": \"52fe48009251416c750aca23\", \"de...  \n",
       "1  [{\"credit_id\": \"52fe4232c3a36847f800b579\", \"de...  \n",
       "2  [{\"credit_id\": \"54805967c3a36829b5002c41\", \"de...  \n",
       "3  [{\"credit_id\": \"52fe4781c3a36847f81398c3\", \"de...  \n",
       "4  [{\"credit_id\": \"52fe479ac3a36847f813eaa3\", \"de...  "
      ]
     },
     "execution_count": 17,
     "metadata": {},
     "output_type": "execute_result"
    }
   ],
   "source": [
    "movies.head()"
   ]
  },
  {
   "cell_type": "code",
   "execution_count": 18,
   "id": "d952a022",
   "metadata": {
    "execution": {
     "iopub.execute_input": "2023-09-27T04:23:39.868232Z",
     "iopub.status.busy": "2023-09-27T04:23:39.867637Z",
     "iopub.status.idle": "2023-09-27T04:23:39.872238Z",
     "shell.execute_reply": "2023-09-27T04:23:39.871505Z"
    },
    "papermill": {
     "duration": 0.021024,
     "end_time": "2023-09-27T04:23:39.874095",
     "exception": false,
     "start_time": "2023-09-27T04:23:39.853071",
     "status": "completed"
    },
    "tags": []
   },
   "outputs": [],
   "source": [
    "def direc(obj):                     #we have genres in form of list of strings we need just genre id vgere sagla kad bagula \n",
    "    l=[]\n",
    "    c=0#literal_eval string la dict madhe convert karto\n",
    "    for i in ast.literal_eval(obj):\n",
    "        if i['job']=='Director':\n",
    "            l.append(i['name'])\n",
    "            break\n",
    "    return l"
   ]
  },
  {
   "cell_type": "code",
   "execution_count": 19,
   "id": "2cd29cf9",
   "metadata": {
    "execution": {
     "iopub.execute_input": "2023-09-27T04:23:39.902923Z",
     "iopub.status.busy": "2023-09-27T04:23:39.901665Z",
     "iopub.status.idle": "2023-09-27T04:23:43.991981Z",
     "shell.execute_reply": "2023-09-27T04:23:43.990946Z"
    },
    "papermill": {
     "duration": 4.107297,
     "end_time": "2023-09-27T04:23:43.994431",
     "exception": false,
     "start_time": "2023-09-27T04:23:39.887134",
     "status": "completed"
    },
    "tags": []
   },
   "outputs": [],
   "source": [
    "movies['crew']=movies['crew'].apply(direc)"
   ]
  },
  {
   "cell_type": "code",
   "execution_count": 20,
   "id": "f85a12e9",
   "metadata": {
    "execution": {
     "iopub.execute_input": "2023-09-27T04:23:44.022606Z",
     "iopub.status.busy": "2023-09-27T04:23:44.022225Z",
     "iopub.status.idle": "2023-09-27T04:23:44.043002Z",
     "shell.execute_reply": "2023-09-27T04:23:44.041888Z"
    },
    "papermill": {
     "duration": 0.037268,
     "end_time": "2023-09-27T04:23:44.045050",
     "exception": false,
     "start_time": "2023-09-27T04:23:44.007782",
     "status": "completed"
    },
    "tags": []
   },
   "outputs": [
    {
     "data": {
      "text/html": [
       "<div>\n",
       "<style scoped>\n",
       "    .dataframe tbody tr th:only-of-type {\n",
       "        vertical-align: middle;\n",
       "    }\n",
       "\n",
       "    .dataframe tbody tr th {\n",
       "        vertical-align: top;\n",
       "    }\n",
       "\n",
       "    .dataframe thead th {\n",
       "        text-align: right;\n",
       "    }\n",
       "</style>\n",
       "<table border=\"1\" class=\"dataframe\">\n",
       "  <thead>\n",
       "    <tr style=\"text-align: right;\">\n",
       "      <th></th>\n",
       "      <th>movie_id</th>\n",
       "      <th>title</th>\n",
       "      <th>overview</th>\n",
       "      <th>genres</th>\n",
       "      <th>keywords</th>\n",
       "      <th>cast</th>\n",
       "      <th>crew</th>\n",
       "    </tr>\n",
       "  </thead>\n",
       "  <tbody>\n",
       "    <tr>\n",
       "      <th>0</th>\n",
       "      <td>19995</td>\n",
       "      <td>Avatar</td>\n",
       "      <td>In the 22nd century, a paraplegic Marine is di...</td>\n",
       "      <td>[Action, Adventure, Fantasy, Science Fiction]</td>\n",
       "      <td>[culture clash, future, space war, space colon...</td>\n",
       "      <td>[Sam Worthington, Zoe Saldana, Sigourney Weave...</td>\n",
       "      <td>[James Cameron]</td>\n",
       "    </tr>\n",
       "    <tr>\n",
       "      <th>1</th>\n",
       "      <td>285</td>\n",
       "      <td>Pirates of the Caribbean: At World's End</td>\n",
       "      <td>Captain Barbossa, long believed to be dead, ha...</td>\n",
       "      <td>[Adventure, Fantasy, Action]</td>\n",
       "      <td>[ocean, drug abuse, exotic island, east india ...</td>\n",
       "      <td>[Johnny Depp, Orlando Bloom, Keira Knightley, ...</td>\n",
       "      <td>[Gore Verbinski]</td>\n",
       "    </tr>\n",
       "    <tr>\n",
       "      <th>2</th>\n",
       "      <td>206647</td>\n",
       "      <td>Spectre</td>\n",
       "      <td>A cryptic message from Bond’s past sends him o...</td>\n",
       "      <td>[Action, Adventure, Crime]</td>\n",
       "      <td>[spy, based on novel, secret agent, sequel, mi...</td>\n",
       "      <td>[Daniel Craig, Christoph Waltz, Léa Seydoux, R...</td>\n",
       "      <td>[Sam Mendes]</td>\n",
       "    </tr>\n",
       "    <tr>\n",
       "      <th>3</th>\n",
       "      <td>49026</td>\n",
       "      <td>The Dark Knight Rises</td>\n",
       "      <td>Following the death of District Attorney Harve...</td>\n",
       "      <td>[Action, Crime, Drama, Thriller]</td>\n",
       "      <td>[dc comics, crime fighter, terrorist, secret i...</td>\n",
       "      <td>[Christian Bale, Michael Caine, Gary Oldman, A...</td>\n",
       "      <td>[Christopher Nolan]</td>\n",
       "    </tr>\n",
       "    <tr>\n",
       "      <th>4</th>\n",
       "      <td>49529</td>\n",
       "      <td>John Carter</td>\n",
       "      <td>John Carter is a war-weary, former military ca...</td>\n",
       "      <td>[Action, Adventure, Science Fiction]</td>\n",
       "      <td>[based on novel, mars, medallion, space travel...</td>\n",
       "      <td>[Taylor Kitsch, Lynn Collins, Samantha Morton,...</td>\n",
       "      <td>[Andrew Stanton]</td>\n",
       "    </tr>\n",
       "  </tbody>\n",
       "</table>\n",
       "</div>"
      ],
      "text/plain": [
       "   movie_id                                     title  \\\n",
       "0     19995                                    Avatar   \n",
       "1       285  Pirates of the Caribbean: At World's End   \n",
       "2    206647                                   Spectre   \n",
       "3     49026                     The Dark Knight Rises   \n",
       "4     49529                               John Carter   \n",
       "\n",
       "                                            overview  \\\n",
       "0  In the 22nd century, a paraplegic Marine is di...   \n",
       "1  Captain Barbossa, long believed to be dead, ha...   \n",
       "2  A cryptic message from Bond’s past sends him o...   \n",
       "3  Following the death of District Attorney Harve...   \n",
       "4  John Carter is a war-weary, former military ca...   \n",
       "\n",
       "                                          genres  \\\n",
       "0  [Action, Adventure, Fantasy, Science Fiction]   \n",
       "1                   [Adventure, Fantasy, Action]   \n",
       "2                     [Action, Adventure, Crime]   \n",
       "3               [Action, Crime, Drama, Thriller]   \n",
       "4           [Action, Adventure, Science Fiction]   \n",
       "\n",
       "                                            keywords  \\\n",
       "0  [culture clash, future, space war, space colon...   \n",
       "1  [ocean, drug abuse, exotic island, east india ...   \n",
       "2  [spy, based on novel, secret agent, sequel, mi...   \n",
       "3  [dc comics, crime fighter, terrorist, secret i...   \n",
       "4  [based on novel, mars, medallion, space travel...   \n",
       "\n",
       "                                                cast                 crew  \n",
       "0  [Sam Worthington, Zoe Saldana, Sigourney Weave...      [James Cameron]  \n",
       "1  [Johnny Depp, Orlando Bloom, Keira Knightley, ...     [Gore Verbinski]  \n",
       "2  [Daniel Craig, Christoph Waltz, Léa Seydoux, R...         [Sam Mendes]  \n",
       "3  [Christian Bale, Michael Caine, Gary Oldman, A...  [Christopher Nolan]  \n",
       "4  [Taylor Kitsch, Lynn Collins, Samantha Morton,...     [Andrew Stanton]  "
      ]
     },
     "execution_count": 20,
     "metadata": {},
     "output_type": "execute_result"
    }
   ],
   "source": [
    "movies.head()"
   ]
  },
  {
   "cell_type": "code",
   "execution_count": 21,
   "id": "64c38d13",
   "metadata": {
    "execution": {
     "iopub.execute_input": "2023-09-27T04:23:44.073845Z",
     "iopub.status.busy": "2023-09-27T04:23:44.073465Z",
     "iopub.status.idle": "2023-09-27T04:23:44.186160Z",
     "shell.execute_reply": "2023-09-27T04:23:44.185077Z"
    },
    "papermill": {
     "duration": 0.130218,
     "end_time": "2023-09-27T04:23:44.188389",
     "exception": false,
     "start_time": "2023-09-27T04:23:44.058171",
     "status": "completed"
    },
    "tags": []
   },
   "outputs": [],
   "source": [
    "movies['overview']=movies['overview'].apply(lambda x:x.split())"
   ]
  },
  {
   "cell_type": "code",
   "execution_count": 22,
   "id": "07a96fab",
   "metadata": {
    "execution": {
     "iopub.execute_input": "2023-09-27T04:23:44.216830Z",
     "iopub.status.busy": "2023-09-27T04:23:44.215971Z",
     "iopub.status.idle": "2023-09-27T04:23:44.288148Z",
     "shell.execute_reply": "2023-09-27T04:23:44.287181Z"
    },
    "papermill": {
     "duration": 0.089021,
     "end_time": "2023-09-27T04:23:44.290650",
     "exception": false,
     "start_time": "2023-09-27T04:23:44.201629",
     "status": "completed"
    },
    "tags": []
   },
   "outputs": [],
   "source": [
    "movies['genres']=movies['genres'].apply(lambda x:[i.replace(\" \",\"\") for i in x])\n",
    "movies['keywords']=movies['keywords'].apply(lambda x:[i.replace(\" \",\"\") for i in x])\n",
    "movies['cast']=movies['cast'].apply(lambda x:[i.replace(\" \",\"\") for i in x])\n",
    "movies['crew']=movies['crew'].apply(lambda x:[i.replace(\" \",\"\") for i in x])"
   ]
  },
  {
   "cell_type": "code",
   "execution_count": 23,
   "id": "f327c3ca",
   "metadata": {
    "execution": {
     "iopub.execute_input": "2023-09-27T04:23:44.319216Z",
     "iopub.status.busy": "2023-09-27T04:23:44.318845Z",
     "iopub.status.idle": "2023-09-27T04:23:44.341619Z",
     "shell.execute_reply": "2023-09-27T04:23:44.340580Z"
    },
    "papermill": {
     "duration": 0.040385,
     "end_time": "2023-09-27T04:23:44.344151",
     "exception": false,
     "start_time": "2023-09-27T04:23:44.303766",
     "status": "completed"
    },
    "tags": []
   },
   "outputs": [
    {
     "data": {
      "text/html": [
       "<div>\n",
       "<style scoped>\n",
       "    .dataframe tbody tr th:only-of-type {\n",
       "        vertical-align: middle;\n",
       "    }\n",
       "\n",
       "    .dataframe tbody tr th {\n",
       "        vertical-align: top;\n",
       "    }\n",
       "\n",
       "    .dataframe thead th {\n",
       "        text-align: right;\n",
       "    }\n",
       "</style>\n",
       "<table border=\"1\" class=\"dataframe\">\n",
       "  <thead>\n",
       "    <tr style=\"text-align: right;\">\n",
       "      <th></th>\n",
       "      <th>movie_id</th>\n",
       "      <th>title</th>\n",
       "      <th>overview</th>\n",
       "      <th>genres</th>\n",
       "      <th>keywords</th>\n",
       "      <th>cast</th>\n",
       "      <th>crew</th>\n",
       "    </tr>\n",
       "  </thead>\n",
       "  <tbody>\n",
       "    <tr>\n",
       "      <th>0</th>\n",
       "      <td>19995</td>\n",
       "      <td>Avatar</td>\n",
       "      <td>[In, the, 22nd, century,, a, paraplegic, Marin...</td>\n",
       "      <td>[Action, Adventure, Fantasy, ScienceFiction]</td>\n",
       "      <td>[cultureclash, future, spacewar, spacecolony, ...</td>\n",
       "      <td>[SamWorthington, ZoeSaldana, SigourneyWeaver, ...</td>\n",
       "      <td>[JamesCameron]</td>\n",
       "    </tr>\n",
       "    <tr>\n",
       "      <th>1</th>\n",
       "      <td>285</td>\n",
       "      <td>Pirates of the Caribbean: At World's End</td>\n",
       "      <td>[Captain, Barbossa,, long, believed, to, be, d...</td>\n",
       "      <td>[Adventure, Fantasy, Action]</td>\n",
       "      <td>[ocean, drugabuse, exoticisland, eastindiatrad...</td>\n",
       "      <td>[JohnnyDepp, OrlandoBloom, KeiraKnightley, Ste...</td>\n",
       "      <td>[GoreVerbinski]</td>\n",
       "    </tr>\n",
       "    <tr>\n",
       "      <th>2</th>\n",
       "      <td>206647</td>\n",
       "      <td>Spectre</td>\n",
       "      <td>[A, cryptic, message, from, Bond’s, past, send...</td>\n",
       "      <td>[Action, Adventure, Crime]</td>\n",
       "      <td>[spy, basedonnovel, secretagent, sequel, mi6, ...</td>\n",
       "      <td>[DanielCraig, ChristophWaltz, LéaSeydoux, Ralp...</td>\n",
       "      <td>[SamMendes]</td>\n",
       "    </tr>\n",
       "    <tr>\n",
       "      <th>3</th>\n",
       "      <td>49026</td>\n",
       "      <td>The Dark Knight Rises</td>\n",
       "      <td>[Following, the, death, of, District, Attorney...</td>\n",
       "      <td>[Action, Crime, Drama, Thriller]</td>\n",
       "      <td>[dccomics, crimefighter, terrorist, secretiden...</td>\n",
       "      <td>[ChristianBale, MichaelCaine, GaryOldman, Anne...</td>\n",
       "      <td>[ChristopherNolan]</td>\n",
       "    </tr>\n",
       "    <tr>\n",
       "      <th>4</th>\n",
       "      <td>49529</td>\n",
       "      <td>John Carter</td>\n",
       "      <td>[John, Carter, is, a, war-weary,, former, mili...</td>\n",
       "      <td>[Action, Adventure, ScienceFiction]</td>\n",
       "      <td>[basedonnovel, mars, medallion, spacetravel, p...</td>\n",
       "      <td>[TaylorKitsch, LynnCollins, SamanthaMorton, Wi...</td>\n",
       "      <td>[AndrewStanton]</td>\n",
       "    </tr>\n",
       "  </tbody>\n",
       "</table>\n",
       "</div>"
      ],
      "text/plain": [
       "   movie_id                                     title  \\\n",
       "0     19995                                    Avatar   \n",
       "1       285  Pirates of the Caribbean: At World's End   \n",
       "2    206647                                   Spectre   \n",
       "3     49026                     The Dark Knight Rises   \n",
       "4     49529                               John Carter   \n",
       "\n",
       "                                            overview  \\\n",
       "0  [In, the, 22nd, century,, a, paraplegic, Marin...   \n",
       "1  [Captain, Barbossa,, long, believed, to, be, d...   \n",
       "2  [A, cryptic, message, from, Bond’s, past, send...   \n",
       "3  [Following, the, death, of, District, Attorney...   \n",
       "4  [John, Carter, is, a, war-weary,, former, mili...   \n",
       "\n",
       "                                         genres  \\\n",
       "0  [Action, Adventure, Fantasy, ScienceFiction]   \n",
       "1                  [Adventure, Fantasy, Action]   \n",
       "2                    [Action, Adventure, Crime]   \n",
       "3              [Action, Crime, Drama, Thriller]   \n",
       "4           [Action, Adventure, ScienceFiction]   \n",
       "\n",
       "                                            keywords  \\\n",
       "0  [cultureclash, future, spacewar, spacecolony, ...   \n",
       "1  [ocean, drugabuse, exoticisland, eastindiatrad...   \n",
       "2  [spy, basedonnovel, secretagent, sequel, mi6, ...   \n",
       "3  [dccomics, crimefighter, terrorist, secretiden...   \n",
       "4  [basedonnovel, mars, medallion, spacetravel, p...   \n",
       "\n",
       "                                                cast                crew  \n",
       "0  [SamWorthington, ZoeSaldana, SigourneyWeaver, ...      [JamesCameron]  \n",
       "1  [JohnnyDepp, OrlandoBloom, KeiraKnightley, Ste...     [GoreVerbinski]  \n",
       "2  [DanielCraig, ChristophWaltz, LéaSeydoux, Ralp...         [SamMendes]  \n",
       "3  [ChristianBale, MichaelCaine, GaryOldman, Anne...  [ChristopherNolan]  \n",
       "4  [TaylorKitsch, LynnCollins, SamanthaMorton, Wi...     [AndrewStanton]  "
      ]
     },
     "execution_count": 23,
     "metadata": {},
     "output_type": "execute_result"
    }
   ],
   "source": [
    "movies.head()"
   ]
  },
  {
   "cell_type": "code",
   "execution_count": 24,
   "id": "3957e654",
   "metadata": {
    "execution": {
     "iopub.execute_input": "2023-09-27T04:23:44.373126Z",
     "iopub.status.busy": "2023-09-27T04:23:44.372748Z",
     "iopub.status.idle": "2023-09-27T04:23:44.404247Z",
     "shell.execute_reply": "2023-09-27T04:23:44.403164Z"
    },
    "papermill": {
     "duration": 0.048877,
     "end_time": "2023-09-27T04:23:44.406273",
     "exception": false,
     "start_time": "2023-09-27T04:23:44.357396",
     "status": "completed"
    },
    "tags": []
   },
   "outputs": [],
   "source": [
    "movies['tags']=movies['genres']+movies['cast']+movies['keywords']+movies['overview']"
   ]
  },
  {
   "cell_type": "code",
   "execution_count": 25,
   "id": "405486e4",
   "metadata": {
    "execution": {
     "iopub.execute_input": "2023-09-27T04:23:44.435062Z",
     "iopub.status.busy": "2023-09-27T04:23:44.434715Z",
     "iopub.status.idle": "2023-09-27T04:23:44.462353Z",
     "shell.execute_reply": "2023-09-27T04:23:44.461079Z"
    },
    "papermill": {
     "duration": 0.044782,
     "end_time": "2023-09-27T04:23:44.464590",
     "exception": false,
     "start_time": "2023-09-27T04:23:44.419808",
     "status": "completed"
    },
    "tags": []
   },
   "outputs": [
    {
     "data": {
      "text/html": [
       "<div>\n",
       "<style scoped>\n",
       "    .dataframe tbody tr th:only-of-type {\n",
       "        vertical-align: middle;\n",
       "    }\n",
       "\n",
       "    .dataframe tbody tr th {\n",
       "        vertical-align: top;\n",
       "    }\n",
       "\n",
       "    .dataframe thead th {\n",
       "        text-align: right;\n",
       "    }\n",
       "</style>\n",
       "<table border=\"1\" class=\"dataframe\">\n",
       "  <thead>\n",
       "    <tr style=\"text-align: right;\">\n",
       "      <th></th>\n",
       "      <th>movie_id</th>\n",
       "      <th>title</th>\n",
       "      <th>overview</th>\n",
       "      <th>genres</th>\n",
       "      <th>keywords</th>\n",
       "      <th>cast</th>\n",
       "      <th>crew</th>\n",
       "      <th>tags</th>\n",
       "    </tr>\n",
       "  </thead>\n",
       "  <tbody>\n",
       "    <tr>\n",
       "      <th>0</th>\n",
       "      <td>19995</td>\n",
       "      <td>Avatar</td>\n",
       "      <td>[In, the, 22nd, century,, a, paraplegic, Marin...</td>\n",
       "      <td>[Action, Adventure, Fantasy, ScienceFiction]</td>\n",
       "      <td>[cultureclash, future, spacewar, spacecolony, ...</td>\n",
       "      <td>[SamWorthington, ZoeSaldana, SigourneyWeaver, ...</td>\n",
       "      <td>[JamesCameron]</td>\n",
       "      <td>[Action, Adventure, Fantasy, ScienceFiction, S...</td>\n",
       "    </tr>\n",
       "    <tr>\n",
       "      <th>1</th>\n",
       "      <td>285</td>\n",
       "      <td>Pirates of the Caribbean: At World's End</td>\n",
       "      <td>[Captain, Barbossa,, long, believed, to, be, d...</td>\n",
       "      <td>[Adventure, Fantasy, Action]</td>\n",
       "      <td>[ocean, drugabuse, exoticisland, eastindiatrad...</td>\n",
       "      <td>[JohnnyDepp, OrlandoBloom, KeiraKnightley, Ste...</td>\n",
       "      <td>[GoreVerbinski]</td>\n",
       "      <td>[Adventure, Fantasy, Action, JohnnyDepp, Orlan...</td>\n",
       "    </tr>\n",
       "    <tr>\n",
       "      <th>2</th>\n",
       "      <td>206647</td>\n",
       "      <td>Spectre</td>\n",
       "      <td>[A, cryptic, message, from, Bond’s, past, send...</td>\n",
       "      <td>[Action, Adventure, Crime]</td>\n",
       "      <td>[spy, basedonnovel, secretagent, sequel, mi6, ...</td>\n",
       "      <td>[DanielCraig, ChristophWaltz, LéaSeydoux, Ralp...</td>\n",
       "      <td>[SamMendes]</td>\n",
       "      <td>[Action, Adventure, Crime, DanielCraig, Christ...</td>\n",
       "    </tr>\n",
       "    <tr>\n",
       "      <th>3</th>\n",
       "      <td>49026</td>\n",
       "      <td>The Dark Knight Rises</td>\n",
       "      <td>[Following, the, death, of, District, Attorney...</td>\n",
       "      <td>[Action, Crime, Drama, Thriller]</td>\n",
       "      <td>[dccomics, crimefighter, terrorist, secretiden...</td>\n",
       "      <td>[ChristianBale, MichaelCaine, GaryOldman, Anne...</td>\n",
       "      <td>[ChristopherNolan]</td>\n",
       "      <td>[Action, Crime, Drama, Thriller, ChristianBale...</td>\n",
       "    </tr>\n",
       "    <tr>\n",
       "      <th>4</th>\n",
       "      <td>49529</td>\n",
       "      <td>John Carter</td>\n",
       "      <td>[John, Carter, is, a, war-weary,, former, mili...</td>\n",
       "      <td>[Action, Adventure, ScienceFiction]</td>\n",
       "      <td>[basedonnovel, mars, medallion, spacetravel, p...</td>\n",
       "      <td>[TaylorKitsch, LynnCollins, SamanthaMorton, Wi...</td>\n",
       "      <td>[AndrewStanton]</td>\n",
       "      <td>[Action, Adventure, ScienceFiction, TaylorKits...</td>\n",
       "    </tr>\n",
       "  </tbody>\n",
       "</table>\n",
       "</div>"
      ],
      "text/plain": [
       "   movie_id                                     title  \\\n",
       "0     19995                                    Avatar   \n",
       "1       285  Pirates of the Caribbean: At World's End   \n",
       "2    206647                                   Spectre   \n",
       "3     49026                     The Dark Knight Rises   \n",
       "4     49529                               John Carter   \n",
       "\n",
       "                                            overview  \\\n",
       "0  [In, the, 22nd, century,, a, paraplegic, Marin...   \n",
       "1  [Captain, Barbossa,, long, believed, to, be, d...   \n",
       "2  [A, cryptic, message, from, Bond’s, past, send...   \n",
       "3  [Following, the, death, of, District, Attorney...   \n",
       "4  [John, Carter, is, a, war-weary,, former, mili...   \n",
       "\n",
       "                                         genres  \\\n",
       "0  [Action, Adventure, Fantasy, ScienceFiction]   \n",
       "1                  [Adventure, Fantasy, Action]   \n",
       "2                    [Action, Adventure, Crime]   \n",
       "3              [Action, Crime, Drama, Thriller]   \n",
       "4           [Action, Adventure, ScienceFiction]   \n",
       "\n",
       "                                            keywords  \\\n",
       "0  [cultureclash, future, spacewar, spacecolony, ...   \n",
       "1  [ocean, drugabuse, exoticisland, eastindiatrad...   \n",
       "2  [spy, basedonnovel, secretagent, sequel, mi6, ...   \n",
       "3  [dccomics, crimefighter, terrorist, secretiden...   \n",
       "4  [basedonnovel, mars, medallion, spacetravel, p...   \n",
       "\n",
       "                                                cast                crew  \\\n",
       "0  [SamWorthington, ZoeSaldana, SigourneyWeaver, ...      [JamesCameron]   \n",
       "1  [JohnnyDepp, OrlandoBloom, KeiraKnightley, Ste...     [GoreVerbinski]   \n",
       "2  [DanielCraig, ChristophWaltz, LéaSeydoux, Ralp...         [SamMendes]   \n",
       "3  [ChristianBale, MichaelCaine, GaryOldman, Anne...  [ChristopherNolan]   \n",
       "4  [TaylorKitsch, LynnCollins, SamanthaMorton, Wi...     [AndrewStanton]   \n",
       "\n",
       "                                                tags  \n",
       "0  [Action, Adventure, Fantasy, ScienceFiction, S...  \n",
       "1  [Adventure, Fantasy, Action, JohnnyDepp, Orlan...  \n",
       "2  [Action, Adventure, Crime, DanielCraig, Christ...  \n",
       "3  [Action, Crime, Drama, Thriller, ChristianBale...  \n",
       "4  [Action, Adventure, ScienceFiction, TaylorKits...  "
      ]
     },
     "execution_count": 25,
     "metadata": {},
     "output_type": "execute_result"
    }
   ],
   "source": [
    "movies.head()"
   ]
  },
  {
   "cell_type": "code",
   "execution_count": 26,
   "id": "141b4644",
   "metadata": {
    "execution": {
     "iopub.execute_input": "2023-09-27T04:23:44.494506Z",
     "iopub.status.busy": "2023-09-27T04:23:44.494138Z",
     "iopub.status.idle": "2023-09-27T04:23:44.500371Z",
     "shell.execute_reply": "2023-09-27T04:23:44.499276Z"
    },
    "papermill": {
     "duration": 0.023213,
     "end_time": "2023-09-27T04:23:44.502408",
     "exception": false,
     "start_time": "2023-09-27T04:23:44.479195",
     "status": "completed"
    },
    "tags": []
   },
   "outputs": [],
   "source": [
    "newd1=movies[['movie_id','title','tags']]"
   ]
  },
  {
   "cell_type": "code",
   "execution_count": 27,
   "id": "ccebf7ef",
   "metadata": {
    "execution": {
     "iopub.execute_input": "2023-09-27T04:23:44.531431Z",
     "iopub.status.busy": "2023-09-27T04:23:44.531074Z",
     "iopub.status.idle": "2023-09-27T04:23:44.545456Z",
     "shell.execute_reply": "2023-09-27T04:23:44.544425Z"
    },
    "papermill": {
     "duration": 0.031526,
     "end_time": "2023-09-27T04:23:44.547797",
     "exception": false,
     "start_time": "2023-09-27T04:23:44.516271",
     "status": "completed"
    },
    "tags": []
   },
   "outputs": [
    {
     "data": {
      "text/html": [
       "<div>\n",
       "<style scoped>\n",
       "    .dataframe tbody tr th:only-of-type {\n",
       "        vertical-align: middle;\n",
       "    }\n",
       "\n",
       "    .dataframe tbody tr th {\n",
       "        vertical-align: top;\n",
       "    }\n",
       "\n",
       "    .dataframe thead th {\n",
       "        text-align: right;\n",
       "    }\n",
       "</style>\n",
       "<table border=\"1\" class=\"dataframe\">\n",
       "  <thead>\n",
       "    <tr style=\"text-align: right;\">\n",
       "      <th></th>\n",
       "      <th>movie_id</th>\n",
       "      <th>title</th>\n",
       "      <th>tags</th>\n",
       "    </tr>\n",
       "  </thead>\n",
       "  <tbody>\n",
       "    <tr>\n",
       "      <th>0</th>\n",
       "      <td>19995</td>\n",
       "      <td>Avatar</td>\n",
       "      <td>[Action, Adventure, Fantasy, ScienceFiction, S...</td>\n",
       "    </tr>\n",
       "    <tr>\n",
       "      <th>1</th>\n",
       "      <td>285</td>\n",
       "      <td>Pirates of the Caribbean: At World's End</td>\n",
       "      <td>[Adventure, Fantasy, Action, JohnnyDepp, Orlan...</td>\n",
       "    </tr>\n",
       "    <tr>\n",
       "      <th>2</th>\n",
       "      <td>206647</td>\n",
       "      <td>Spectre</td>\n",
       "      <td>[Action, Adventure, Crime, DanielCraig, Christ...</td>\n",
       "    </tr>\n",
       "    <tr>\n",
       "      <th>3</th>\n",
       "      <td>49026</td>\n",
       "      <td>The Dark Knight Rises</td>\n",
       "      <td>[Action, Crime, Drama, Thriller, ChristianBale...</td>\n",
       "    </tr>\n",
       "    <tr>\n",
       "      <th>4</th>\n",
       "      <td>49529</td>\n",
       "      <td>John Carter</td>\n",
       "      <td>[Action, Adventure, ScienceFiction, TaylorKits...</td>\n",
       "    </tr>\n",
       "  </tbody>\n",
       "</table>\n",
       "</div>"
      ],
      "text/plain": [
       "   movie_id                                     title  \\\n",
       "0     19995                                    Avatar   \n",
       "1       285  Pirates of the Caribbean: At World's End   \n",
       "2    206647                                   Spectre   \n",
       "3     49026                     The Dark Knight Rises   \n",
       "4     49529                               John Carter   \n",
       "\n",
       "                                                tags  \n",
       "0  [Action, Adventure, Fantasy, ScienceFiction, S...  \n",
       "1  [Adventure, Fantasy, Action, JohnnyDepp, Orlan...  \n",
       "2  [Action, Adventure, Crime, DanielCraig, Christ...  \n",
       "3  [Action, Crime, Drama, Thriller, ChristianBale...  \n",
       "4  [Action, Adventure, ScienceFiction, TaylorKits...  "
      ]
     },
     "execution_count": 27,
     "metadata": {},
     "output_type": "execute_result"
    }
   ],
   "source": [
    "newd1.head()"
   ]
  },
  {
   "cell_type": "code",
   "execution_count": 28,
   "id": "0a85c2b5",
   "metadata": {
    "execution": {
     "iopub.execute_input": "2023-09-27T04:23:44.578333Z",
     "iopub.status.busy": "2023-09-27T04:23:44.577944Z",
     "iopub.status.idle": "2023-09-27T04:23:44.600774Z",
     "shell.execute_reply": "2023-09-27T04:23:44.599928Z"
    },
    "papermill": {
     "duration": 0.041268,
     "end_time": "2023-09-27T04:23:44.603081",
     "exception": false,
     "start_time": "2023-09-27T04:23:44.561813",
     "status": "completed"
    },
    "tags": []
   },
   "outputs": [
    {
     "name": "stderr",
     "output_type": "stream",
     "text": [
      "/tmp/ipykernel_20/1492381734.py:1: SettingWithCopyWarning: \n",
      "A value is trying to be set on a copy of a slice from a DataFrame.\n",
      "Try using .loc[row_indexer,col_indexer] = value instead\n",
      "\n",
      "See the caveats in the documentation: https://pandas.pydata.org/pandas-docs/stable/user_guide/indexing.html#returning-a-view-versus-a-copy\n",
      "  newd1['tags']=newd1['tags'].apply(lambda x:\" \".join(x))\n"
     ]
    }
   ],
   "source": [
    "newd1['tags']=newd1['tags'].apply(lambda x:\" \".join(x))"
   ]
  },
  {
   "cell_type": "code",
   "execution_count": 29,
   "id": "a120dbc1",
   "metadata": {
    "execution": {
     "iopub.execute_input": "2023-09-27T04:23:44.633146Z",
     "iopub.status.busy": "2023-09-27T04:23:44.632740Z",
     "iopub.status.idle": "2023-09-27T04:23:44.660205Z",
     "shell.execute_reply": "2023-09-27T04:23:44.659220Z"
    },
    "papermill": {
     "duration": 0.044961,
     "end_time": "2023-09-27T04:23:44.662385",
     "exception": false,
     "start_time": "2023-09-27T04:23:44.617424",
     "status": "completed"
    },
    "tags": []
   },
   "outputs": [
    {
     "name": "stderr",
     "output_type": "stream",
     "text": [
      "/tmp/ipykernel_20/3662403701.py:1: SettingWithCopyWarning: \n",
      "A value is trying to be set on a copy of a slice from a DataFrame.\n",
      "Try using .loc[row_indexer,col_indexer] = value instead\n",
      "\n",
      "See the caveats in the documentation: https://pandas.pydata.org/pandas-docs/stable/user_guide/indexing.html#returning-a-view-versus-a-copy\n",
      "  newd1['tags']=newd1['tags'].apply(lambda x:x.lower())\n"
     ]
    }
   ],
   "source": [
    "newd1['tags']=newd1['tags'].apply(lambda x:x.lower())"
   ]
  },
  {
   "cell_type": "code",
   "execution_count": 30,
   "id": "f362f7f0",
   "metadata": {
    "execution": {
     "iopub.execute_input": "2023-09-27T04:23:44.694074Z",
     "iopub.status.busy": "2023-09-27T04:23:44.693000Z",
     "iopub.status.idle": "2023-09-27T04:23:44.702868Z",
     "shell.execute_reply": "2023-09-27T04:23:44.702080Z"
    },
    "papermill": {
     "duration": 0.027887,
     "end_time": "2023-09-27T04:23:44.705198",
     "exception": false,
     "start_time": "2023-09-27T04:23:44.677311",
     "status": "completed"
    },
    "tags": []
   },
   "outputs": [
    {
     "data": {
      "text/html": [
       "<div>\n",
       "<style scoped>\n",
       "    .dataframe tbody tr th:only-of-type {\n",
       "        vertical-align: middle;\n",
       "    }\n",
       "\n",
       "    .dataframe tbody tr th {\n",
       "        vertical-align: top;\n",
       "    }\n",
       "\n",
       "    .dataframe thead th {\n",
       "        text-align: right;\n",
       "    }\n",
       "</style>\n",
       "<table border=\"1\" class=\"dataframe\">\n",
       "  <thead>\n",
       "    <tr style=\"text-align: right;\">\n",
       "      <th></th>\n",
       "      <th>movie_id</th>\n",
       "      <th>title</th>\n",
       "      <th>tags</th>\n",
       "    </tr>\n",
       "  </thead>\n",
       "  <tbody>\n",
       "    <tr>\n",
       "      <th>0</th>\n",
       "      <td>19995</td>\n",
       "      <td>Avatar</td>\n",
       "      <td>action adventure fantasy sciencefiction samwor...</td>\n",
       "    </tr>\n",
       "    <tr>\n",
       "      <th>1</th>\n",
       "      <td>285</td>\n",
       "      <td>Pirates of the Caribbean: At World's End</td>\n",
       "      <td>adventure fantasy action johnnydepp orlandoblo...</td>\n",
       "    </tr>\n",
       "    <tr>\n",
       "      <th>2</th>\n",
       "      <td>206647</td>\n",
       "      <td>Spectre</td>\n",
       "      <td>action adventure crime danielcraig christophwa...</td>\n",
       "    </tr>\n",
       "    <tr>\n",
       "      <th>3</th>\n",
       "      <td>49026</td>\n",
       "      <td>The Dark Knight Rises</td>\n",
       "      <td>action crime drama thriller christianbale mich...</td>\n",
       "    </tr>\n",
       "    <tr>\n",
       "      <th>4</th>\n",
       "      <td>49529</td>\n",
       "      <td>John Carter</td>\n",
       "      <td>action adventure sciencefiction taylorkitsch l...</td>\n",
       "    </tr>\n",
       "  </tbody>\n",
       "</table>\n",
       "</div>"
      ],
      "text/plain": [
       "   movie_id                                     title  \\\n",
       "0     19995                                    Avatar   \n",
       "1       285  Pirates of the Caribbean: At World's End   \n",
       "2    206647                                   Spectre   \n",
       "3     49026                     The Dark Knight Rises   \n",
       "4     49529                               John Carter   \n",
       "\n",
       "                                                tags  \n",
       "0  action adventure fantasy sciencefiction samwor...  \n",
       "1  adventure fantasy action johnnydepp orlandoblo...  \n",
       "2  action adventure crime danielcraig christophwa...  \n",
       "3  action crime drama thriller christianbale mich...  \n",
       "4  action adventure sciencefiction taylorkitsch l...  "
      ]
     },
     "execution_count": 30,
     "metadata": {},
     "output_type": "execute_result"
    }
   ],
   "source": [
    "newd1.head()"
   ]
  },
  {
   "cell_type": "code",
   "execution_count": 31,
   "id": "8e6f5aab",
   "metadata": {
    "execution": {
     "iopub.execute_input": "2023-09-27T04:23:44.735656Z",
     "iopub.status.busy": "2023-09-27T04:23:44.735277Z",
     "iopub.status.idle": "2023-09-27T04:23:46.011562Z",
     "shell.execute_reply": "2023-09-27T04:23:46.010354Z"
    },
    "papermill": {
     "duration": 1.294338,
     "end_time": "2023-09-27T04:23:46.014188",
     "exception": false,
     "start_time": "2023-09-27T04:23:44.719850",
     "status": "completed"
    },
    "tags": []
   },
   "outputs": [],
   "source": [
    "from sklearn.feature_extraction.text import CountVectorizer\n",
    "cv=CountVectorizer(max_features=5000,stop_words='english')"
   ]
  },
  {
   "cell_type": "markdown",
   "id": "9ee542d8",
   "metadata": {
    "papermill": {
     "duration": 0.013856,
     "end_time": "2023-09-27T04:23:46.042807",
     "exception": false,
     "start_time": "2023-09-27T04:23:46.028951",
     "status": "completed"
    },
    "tags": []
   },
   "source": [
    "Vectorization basically used to find similarity between 2 or more tags what it does is combines all tags and picks top 5000 most repeating words. Now it finds frequency of each 5000 words in all the movies in a matrix with dimebnsion of 5000Xmovies. That will be our coordinates in a coordinate system of 5000 dimensions. The less the cosine distance between 2 points more similar are the 2 points i:e the movies."
   ]
  },
  {
   "cell_type": "code",
   "execution_count": 32,
   "id": "af90adf2",
   "metadata": {
    "execution": {
     "iopub.execute_input": "2023-09-27T04:23:46.072640Z",
     "iopub.status.busy": "2023-09-27T04:23:46.072266Z",
     "iopub.status.idle": "2023-09-27T04:23:46.921231Z",
     "shell.execute_reply": "2023-09-27T04:23:46.920084Z"
    },
    "papermill": {
     "duration": 0.867039,
     "end_time": "2023-09-27T04:23:46.923859",
     "exception": false,
     "start_time": "2023-09-27T04:23:46.056820",
     "status": "completed"
    },
    "tags": []
   },
   "outputs": [],
   "source": [
    "vectors=cv.fit_transform(newd1['tags']).toarray()"
   ]
  },
  {
   "cell_type": "code",
   "execution_count": 33,
   "id": "40cbe06a",
   "metadata": {
    "execution": {
     "iopub.execute_input": "2023-09-27T04:23:46.954845Z",
     "iopub.status.busy": "2023-09-27T04:23:46.954014Z",
     "iopub.status.idle": "2023-09-27T04:23:46.961871Z",
     "shell.execute_reply": "2023-09-27T04:23:46.960837Z"
    },
    "papermill": {
     "duration": 0.025822,
     "end_time": "2023-09-27T04:23:46.963990",
     "exception": false,
     "start_time": "2023-09-27T04:23:46.938168",
     "status": "completed"
    },
    "tags": []
   },
   "outputs": [
    {
     "data": {
      "text/plain": [
       "array([[0, 0, 0, ..., 0, 0, 0],\n",
       "       [0, 0, 0, ..., 0, 0, 0],\n",
       "       [0, 0, 0, ..., 0, 0, 0],\n",
       "       ...,\n",
       "       [0, 0, 0, ..., 0, 0, 0],\n",
       "       [0, 0, 0, ..., 0, 0, 0],\n",
       "       [0, 0, 0, ..., 0, 0, 0]])"
      ]
     },
     "execution_count": 33,
     "metadata": {},
     "output_type": "execute_result"
    }
   ],
   "source": [
    "vectors"
   ]
  },
  {
   "cell_type": "code",
   "execution_count": 34,
   "id": "623ec802",
   "metadata": {
    "execution": {
     "iopub.execute_input": "2023-09-27T04:23:46.995380Z",
     "iopub.status.busy": "2023-09-27T04:23:46.994963Z",
     "iopub.status.idle": "2023-09-27T04:23:59.369085Z",
     "shell.execute_reply": "2023-09-27T04:23:59.367377Z"
    },
    "papermill": {
     "duration": 12.392971,
     "end_time": "2023-09-27T04:23:59.371848",
     "exception": false,
     "start_time": "2023-09-27T04:23:46.978877",
     "status": "completed"
    },
    "tags": []
   },
   "outputs": [
    {
     "name": "stdout",
     "output_type": "stream",
     "text": [
      "Requirement already satisfied: nltk in /opt/conda/lib/python3.10/site-packages (3.2.4)\r\n",
      "Requirement already satisfied: six in /opt/conda/lib/python3.10/site-packages (from nltk) (1.16.0)\r\n"
     ]
    }
   ],
   "source": [
    "!pip install nltk"
   ]
  },
  {
   "cell_type": "code",
   "execution_count": 35,
   "id": "340cc0a4",
   "metadata": {
    "execution": {
     "iopub.execute_input": "2023-09-27T04:23:59.403118Z",
     "iopub.status.busy": "2023-09-27T04:23:59.402687Z",
     "iopub.status.idle": "2023-09-27T04:23:59.417426Z",
     "shell.execute_reply": "2023-09-27T04:23:59.416369Z"
    },
    "papermill": {
     "duration": 0.03309,
     "end_time": "2023-09-27T04:23:59.419692",
     "exception": false,
     "start_time": "2023-09-27T04:23:59.386602",
     "status": "completed"
    },
    "tags": []
   },
   "outputs": [
    {
     "data": {
      "text/plain": [
       "array(['000', '007', '10', ..., 'zoo', 'zooeydeschanel', 'zoëkravitz'],\n",
       "      dtype=object)"
      ]
     },
     "execution_count": 35,
     "metadata": {},
     "output_type": "execute_result"
    }
   ],
   "source": [
    "cv.get_feature_names_out()"
   ]
  },
  {
   "cell_type": "raw",
   "id": "1cadbe44",
   "metadata": {
    "papermill": {
     "duration": 0.015009,
     "end_time": "2023-09-27T04:23:59.449564",
     "exception": false,
     "start_time": "2023-09-27T04:23:59.434555",
     "status": "completed"
    },
    "tags": []
   },
   "source": [
    "Porterstemmer makes the same words for common repeating words like dance,dancing,danced..... as they have same context they just increase the workspace so to reduce the load we usae the porterstemmer."
   ]
  },
  {
   "cell_type": "code",
   "execution_count": 36,
   "id": "8c85f552",
   "metadata": {
    "execution": {
     "iopub.execute_input": "2023-09-27T04:23:59.481451Z",
     "iopub.status.busy": "2023-09-27T04:23:59.481079Z",
     "iopub.status.idle": "2023-09-27T04:24:00.121063Z",
     "shell.execute_reply": "2023-09-27T04:24:00.119969Z"
    },
    "papermill": {
     "duration": 0.658652,
     "end_time": "2023-09-27T04:24:00.123536",
     "exception": false,
     "start_time": "2023-09-27T04:23:59.464884",
     "status": "completed"
    },
    "tags": []
   },
   "outputs": [],
   "source": [
    "from nltk.stem.porter import PorterStemmer\n",
    "ps=PorterStemmer()"
   ]
  },
  {
   "cell_type": "code",
   "execution_count": 37,
   "id": "cb790201",
   "metadata": {
    "execution": {
     "iopub.execute_input": "2023-09-27T04:24:00.156268Z",
     "iopub.status.busy": "2023-09-27T04:24:00.155628Z",
     "iopub.status.idle": "2023-09-27T04:24:00.160936Z",
     "shell.execute_reply": "2023-09-27T04:24:00.159989Z"
    },
    "papermill": {
     "duration": 0.023324,
     "end_time": "2023-09-27T04:24:00.162910",
     "exception": false,
     "start_time": "2023-09-27T04:24:00.139586",
     "status": "completed"
    },
    "tags": []
   },
   "outputs": [],
   "source": [
    "def stem(text):\n",
    "    y=[]\n",
    "    \n",
    "    for i in text.split():\n",
    "        y.append(ps.stem(i))\n",
    "    \n",
    "    return \" \".join(y)"
   ]
  },
  {
   "cell_type": "code",
   "execution_count": 38,
   "id": "bad2ff66",
   "metadata": {
    "execution": {
     "iopub.execute_input": "2023-09-27T04:24:00.194904Z",
     "iopub.status.busy": "2023-09-27T04:24:00.194543Z",
     "iopub.status.idle": "2023-09-27T04:24:09.843301Z",
     "shell.execute_reply": "2023-09-27T04:24:09.842197Z"
    },
    "papermill": {
     "duration": 9.66802,
     "end_time": "2023-09-27T04:24:09.845903",
     "exception": false,
     "start_time": "2023-09-27T04:24:00.177883",
     "status": "completed"
    },
    "tags": []
   },
   "outputs": [
    {
     "name": "stderr",
     "output_type": "stream",
     "text": [
      "/tmp/ipykernel_20/2947977137.py:1: SettingWithCopyWarning: \n",
      "A value is trying to be set on a copy of a slice from a DataFrame.\n",
      "Try using .loc[row_indexer,col_indexer] = value instead\n",
      "\n",
      "See the caveats in the documentation: https://pandas.pydata.org/pandas-docs/stable/user_guide/indexing.html#returning-a-view-versus-a-copy\n",
      "  newd1['tags']=newd1['tags'].apply(stem)\n"
     ]
    }
   ],
   "source": [
    "newd1['tags']=newd1['tags'].apply(stem)"
   ]
  },
  {
   "cell_type": "code",
   "execution_count": 39,
   "id": "617c05fb",
   "metadata": {
    "execution": {
     "iopub.execute_input": "2023-09-27T04:24:09.877149Z",
     "iopub.status.busy": "2023-09-27T04:24:09.876750Z",
     "iopub.status.idle": "2023-09-27T04:24:09.881432Z",
     "shell.execute_reply": "2023-09-27T04:24:09.880289Z"
    },
    "papermill": {
     "duration": 0.022673,
     "end_time": "2023-09-27T04:24:09.883549",
     "exception": false,
     "start_time": "2023-09-27T04:24:09.860876",
     "status": "completed"
    },
    "tags": []
   },
   "outputs": [],
   "source": [
    "from sklearn.metrics.pairwise import cosine_similarity"
   ]
  },
  {
   "cell_type": "code",
   "execution_count": 40,
   "id": "3c8206a9",
   "metadata": {
    "execution": {
     "iopub.execute_input": "2023-09-27T04:24:09.914883Z",
     "iopub.status.busy": "2023-09-27T04:24:09.914223Z",
     "iopub.status.idle": "2023-09-27T04:24:11.903844Z",
     "shell.execute_reply": "2023-09-27T04:24:11.902535Z"
    },
    "papermill": {
     "duration": 2.008907,
     "end_time": "2023-09-27T04:24:11.907186",
     "exception": false,
     "start_time": "2023-09-27T04:24:09.898279",
     "status": "completed"
    },
    "tags": []
   },
   "outputs": [],
   "source": [
    "similarity=cosine_similarity(vectors)"
   ]
  },
  {
   "cell_type": "code",
   "execution_count": 41,
   "id": "7c33eb8c",
   "metadata": {
    "execution": {
     "iopub.execute_input": "2023-09-27T04:24:11.944355Z",
     "iopub.status.busy": "2023-09-27T04:24:11.943471Z",
     "iopub.status.idle": "2023-09-27T04:24:11.951178Z",
     "shell.execute_reply": "2023-09-27T04:24:11.950111Z"
    },
    "papermill": {
     "duration": 0.025538,
     "end_time": "2023-09-27T04:24:11.953307",
     "exception": false,
     "start_time": "2023-09-27T04:24:11.927769",
     "status": "completed"
    },
    "tags": []
   },
   "outputs": [
    {
     "data": {
      "text/plain": [
       "array([[1.        , 0.07142857, 0.05143445, ..., 0.02326211, 0.02571722,\n",
       "        0.        ],\n",
       "       [0.07142857, 1.        , 0.07715167, ..., 0.02326211, 0.        ,\n",
       "        0.        ],\n",
       "       [0.05143445, 0.07715167, 1.        , ..., 0.02512595, 0.        ,\n",
       "        0.        ],\n",
       "       ...,\n",
       "       [0.02326211, 0.02326211, 0.02512595, ..., 1.        , 0.07537784,\n",
       "        0.04767313],\n",
       "       [0.02571722, 0.        , 0.        , ..., 0.07537784, 1.        ,\n",
       "        0.05270463],\n",
       "       [0.        , 0.        , 0.        , ..., 0.04767313, 0.05270463,\n",
       "        1.        ]])"
      ]
     },
     "execution_count": 41,
     "metadata": {},
     "output_type": "execute_result"
    }
   ],
   "source": [
    "similarity"
   ]
  },
  {
   "cell_type": "code",
   "execution_count": 42,
   "id": "a6144117",
   "metadata": {
    "execution": {
     "iopub.execute_input": "2023-09-27T04:24:11.984306Z",
     "iopub.status.busy": "2023-09-27T04:24:11.983370Z",
     "iopub.status.idle": "2023-09-27T04:24:11.989516Z",
     "shell.execute_reply": "2023-09-27T04:24:11.988736Z"
    },
    "papermill": {
     "duration": 0.023814,
     "end_time": "2023-09-27T04:24:11.991576",
     "exception": false,
     "start_time": "2023-09-27T04:24:11.967762",
     "status": "completed"
    },
    "tags": []
   },
   "outputs": [],
   "source": [
    "def recommend(movie):\n",
    "    index=newd1[newd1['title']==movie].index[0]\n",
    "    distances=similarity[index]\n",
    "    list=sorted(enumerate(distances),reverse=True,key=lambda x:x[1])[1:6]\n",
    "    \n",
    "    for i in list:\n",
    "        print(newd1.iloc[i[0]].title)"
   ]
  },
  {
   "cell_type": "code",
   "execution_count": 43,
   "id": "b2b74675",
   "metadata": {
    "execution": {
     "iopub.execute_input": "2023-09-27T04:24:12.022798Z",
     "iopub.status.busy": "2023-09-27T04:24:12.022062Z",
     "iopub.status.idle": "2023-09-27T04:24:12.033332Z",
     "shell.execute_reply": "2023-09-27T04:24:12.032224Z"
    },
    "papermill": {
     "duration": 0.029057,
     "end_time": "2023-09-27T04:24:12.035189",
     "exception": false,
     "start_time": "2023-09-27T04:24:12.006132",
     "status": "completed"
    },
    "tags": []
   },
   "outputs": [
    {
     "name": "stdout",
     "output_type": "stream",
     "text": [
      "Yesterday Was a Lie\n",
      "Kansas City\n",
      "Nine Queens\n",
      "A Civil Action\n",
      "The East\n"
     ]
    }
   ],
   "source": [
    "recommend('Good Will Hunting')"
   ]
  },
  {
   "cell_type": "code",
   "execution_count": null,
   "id": "05a12dde",
   "metadata": {
    "papermill": {
     "duration": 0.014118,
     "end_time": "2023-09-27T04:24:12.063802",
     "exception": false,
     "start_time": "2023-09-27T04:24:12.049684",
     "status": "completed"
    },
    "tags": []
   },
   "outputs": [],
   "source": []
  },
  {
   "cell_type": "code",
   "execution_count": null,
   "id": "40c95597",
   "metadata": {
    "papermill": {
     "duration": 0.014126,
     "end_time": "2023-09-27T04:24:12.092285",
     "exception": false,
     "start_time": "2023-09-27T04:24:12.078159",
     "status": "completed"
    },
    "tags": []
   },
   "outputs": [],
   "source": []
  },
  {
   "cell_type": "code",
   "execution_count": null,
   "id": "6ec307c7",
   "metadata": {
    "papermill": {
     "duration": 0.014895,
     "end_time": "2023-09-27T04:24:12.122651",
     "exception": false,
     "start_time": "2023-09-27T04:24:12.107756",
     "status": "completed"
    },
    "tags": []
   },
   "outputs": [],
   "source": []
  },
  {
   "cell_type": "code",
   "execution_count": null,
   "id": "5356df6f",
   "metadata": {
    "papermill": {
     "duration": 0.015201,
     "end_time": "2023-09-27T04:24:12.152497",
     "exception": false,
     "start_time": "2023-09-27T04:24:12.137296",
     "status": "completed"
    },
    "tags": []
   },
   "outputs": [],
   "source": []
  },
  {
   "cell_type": "code",
   "execution_count": null,
   "id": "5c4d9a21",
   "metadata": {
    "papermill": {
     "duration": 0.014467,
     "end_time": "2023-09-27T04:24:12.182090",
     "exception": false,
     "start_time": "2023-09-27T04:24:12.167623",
     "status": "completed"
    },
    "tags": []
   },
   "outputs": [],
   "source": []
  },
  {
   "cell_type": "code",
   "execution_count": null,
   "id": "da83db12",
   "metadata": {
    "papermill": {
     "duration": 0.015116,
     "end_time": "2023-09-27T04:24:12.212939",
     "exception": false,
     "start_time": "2023-09-27T04:24:12.197823",
     "status": "completed"
    },
    "tags": []
   },
   "outputs": [],
   "source": []
  },
  {
   "cell_type": "code",
   "execution_count": null,
   "id": "d99399c6",
   "metadata": {
    "papermill": {
     "duration": 0.014728,
     "end_time": "2023-09-27T04:24:12.242733",
     "exception": false,
     "start_time": "2023-09-27T04:24:12.228005",
     "status": "completed"
    },
    "tags": []
   },
   "outputs": [],
   "source": []
  },
  {
   "cell_type": "code",
   "execution_count": null,
   "id": "cd2759e6",
   "metadata": {
    "papermill": {
     "duration": 0.014277,
     "end_time": "2023-09-27T04:24:12.271579",
     "exception": false,
     "start_time": "2023-09-27T04:24:12.257302",
     "status": "completed"
    },
    "tags": []
   },
   "outputs": [],
   "source": []
  },
  {
   "cell_type": "code",
   "execution_count": null,
   "id": "744256f3",
   "metadata": {
    "papermill": {
     "duration": 0.014284,
     "end_time": "2023-09-27T04:24:12.300472",
     "exception": false,
     "start_time": "2023-09-27T04:24:12.286188",
     "status": "completed"
    },
    "tags": []
   },
   "outputs": [],
   "source": []
  },
  {
   "cell_type": "code",
   "execution_count": null,
   "id": "22551d62",
   "metadata": {
    "papermill": {
     "duration": 0.015229,
     "end_time": "2023-09-27T04:24:12.330436",
     "exception": false,
     "start_time": "2023-09-27T04:24:12.315207",
     "status": "completed"
    },
    "tags": []
   },
   "outputs": [],
   "source": []
  }
 ],
 "metadata": {
  "kernelspec": {
   "display_name": "Python 3",
   "language": "python",
   "name": "python3"
  },
  "language_info": {
   "codemirror_mode": {
    "name": "ipython",
    "version": 3
   },
   "file_extension": ".py",
   "mimetype": "text/x-python",
   "name": "python",
   "nbconvert_exporter": "python",
   "pygments_lexer": "ipython3",
   "version": "3.10.12"
  },
  "papermill": {
   "default_parameters": {},
   "duration": 42.932638,
   "end_time": "2023-09-27T04:24:13.065107",
   "environment_variables": {},
   "exception": null,
   "input_path": "__notebook__.ipynb",
   "output_path": "__notebook__.ipynb",
   "parameters": {},
   "start_time": "2023-09-27T04:23:30.132469",
   "version": "2.4.0"
  }
 },
 "nbformat": 4,
 "nbformat_minor": 5
}
